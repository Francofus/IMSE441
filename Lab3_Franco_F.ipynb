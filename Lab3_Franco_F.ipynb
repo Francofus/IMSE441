{
  "nbformat": 4,
  "nbformat_minor": 0,
  "metadata": {
    "colab": {
      "provenance": [],
      "mount_file_id": "1ip-85aTviU6lCzegVGb3RDZriXKiX35k",
      "authorship_tag": "ABX9TyPR9ITZAJLRTkCHW0JT3o5h",
      "include_colab_link": true
    },
    "kernelspec": {
      "name": "python3",
      "display_name": "Python 3"
    },
    "language_info": {
      "name": "python"
    }
  },
  "cells": [
    {
      "cell_type": "markdown",
      "metadata": {
        "id": "view-in-github",
        "colab_type": "text"
      },
      "source": [
        "<a href=\"https://colab.research.google.com/github/Francofus/IMSE441/blob/main/Lab3_Franco_F.ipynb\" target=\"_parent\"><img src=\"https://colab.research.google.com/assets/colab-badge.svg\" alt=\"Open In Colab\"/></a>"
      ]
    },
    {
      "cell_type": "code",
      "execution_count": 2,
      "metadata": {
        "id": "y9Wrbi4F-0vi"
      },
      "outputs": [],
      "source": [
        "import numpy as np\n",
        "import matplotlib.pyplot as plt\n"
      ]
    },
    {
      "cell_type": "code",
      "source": [
        "from scipy.stats import randint"
      ],
      "metadata": {
        "id": "GaceZMgV_K8-"
      },
      "execution_count": 3,
      "outputs": []
    },
    {
      "cell_type": "code",
      "source": [
        "L=1\n",
        "U=6\n",
        "X=np.arange(L,U+1)\n",
        "print(X)"
      ],
      "metadata": {
        "colab": {
          "base_uri": "https://localhost:8080/"
        },
        "id": "uRTBOqSw_aT-",
        "outputId": "8cd96e48-780d-42e4-a932-2d2e898d5d4c"
      },
      "execution_count": 5,
      "outputs": [
        {
          "output_type": "stream",
          "name": "stdout",
          "text": [
            "[1 2 3 4 5 6]\n"
          ]
        }
      ]
    },
    {
      "cell_type": "markdown",
      "source": [
        "**PMF**"
      ],
      "metadata": {
        "id": "-RPst0EkuCIx"
      }
    },
    {
      "cell_type": "code",
      "source": [
        "D_U_dist=randint(L,U+1)\n",
        "D_U_pmf=D_U_dist.pmf(X)\n",
        "D_U_pmf[:5]"
      ],
      "metadata": {
        "colab": {
          "base_uri": "https://localhost:8080/"
        },
        "id": "MPEVm9eN_r5Q",
        "outputId": "c0b4433a-be22-436b-b8a2-44c1401c3d49"
      },
      "execution_count": 9,
      "outputs": [
        {
          "output_type": "execute_result",
          "data": {
            "text/plain": [
              "array([0.16666667, 0.16666667, 0.16666667, 0.16666667, 0.16666667])"
            ]
          },
          "metadata": {},
          "execution_count": 9
        }
      ]
    },
    {
      "cell_type": "code",
      "source": [
        "plt.plot(X,D_U_pmf,'bo',ms=8)\n",
        "plt.vlines(X, 0, D_U_pmf, colors='b', lw=5, alpha=0.5)\n",
        "plt.xlabel('X')\n",
        "plt.ylabel('Probability')\n",
        "plt.show()"
      ],
      "metadata": {
        "id": "CES7XqSLAu1v",
        "colab": {
          "base_uri": "https://localhost:8080/",
          "height": 283
        },
        "outputId": "66a97f68-2423-4479-829b-56722f13b590"
      },
      "execution_count": 11,
      "outputs": [
        {
          "output_type": "display_data",
          "data": {
            "text/plain": [
              "<Figure size 432x288 with 1 Axes>"
            ],
            "image/png": "[encoded data removed]"
          },
          "metadata": {
            "needs_background": "light"
          }
        }
      ]
    },
    {
      "cell_type": "code",
      "source": [
        "plt.bar(X,D_U_pmf)\n",
        "plt.xlabel('X')\n",
        "plt.ylabel('Probability')\n",
        "plt.show()"
      ],
      "metadata": {
        "colab": {
          "base_uri": "https://localhost:8080/",
          "height": 279
        },
        "id": "Jli8LAUsBJ1d",
        "outputId": "c63e2444-de17-492f-89ea-1b7207e3a541"
      },
      "execution_count": 8,
      "outputs": [
        {
          "output_type": "display_data",
          "data": {
            "text/plain": [
              "<Figure size 432x288 with 1 Axes>"
            ],
            "image/png": "[encoded data removed]"
          },
          "metadata": {
            "needs_background": "light"
          }
        }
      ]
    },
    {
      "cell_type": "markdown",
      "source": [
        "CDF"
      ],
      "metadata": {
        "id": "I1K2p4H4BdOw"
      }
    },
    {
      "cell_type": "code",
      "source": [
        "D_U_cdf=D_U_dist.cdf(X)\n",
        "print(D_U_cdf)"
      ],
      "metadata": {
        "colab": {
          "base_uri": "https://localhost:8080/"
        },
        "id": "608PX3IgBaR9",
        "outputId": "7c845bd2-5bf9-453d-f58e-2e287038126b"
      },
      "execution_count": 13,
      "outputs": [
        {
          "output_type": "stream",
          "name": "stdout",
          "text": [
            "[0.16666667 0.33333333 0.5        0.66666667 0.83333333 1.        ]\n"
          ]
        }
      ]
    },
    {
      "cell_type": "code",
      "source": [
        "plt.plot(X, D_U_cdf,'bo', ms=8)\n",
        "plt.xlabel('X')\n",
        "plt.ylabel('Cumulative Probability')\n",
        "plt.show()"
      ],
      "metadata": {
        "colab": {
          "base_uri": "https://localhost:8080/",
          "height": 279
        },
        "id": "11hT7Rlgzihc",
        "outputId": "c5196399-a48c-46c7-9a24-7a9686fb010a"
      },
      "execution_count": 14,
      "outputs": [
        {
          "output_type": "display_data",
          "data": {
            "text/plain": [
              "<Figure size 432x288 with 1 Axes>"
            ],
            "image/png": "[encoded data removed]"
          },
          "metadata": {
            "needs_background": "light"
          }
        }
      ]
    },
    {
      "cell_type": "code",
      "source": [
        "ProbX_less_3 = D_U_dist.cdf(3)\n",
        "print(\"Probability of P(x<=3): \",ProbX_less_3)"
      ],
      "metadata": {
        "colab": {
          "base_uri": "https://localhost:8080/"
        },
        "id": "N76BqL2kz06f",
        "outputId": "6efd9785-2361-4875-b3e4-ad6c75b5e362"
      },
      "execution_count": 15,
      "outputs": [
        {
          "output_type": "stream",
          "name": "stdout",
          "text": [
            "Probability of P(x<=3):  0.5\n"
          ]
        }
      ]
    },
    {
      "cell_type": "code",
      "source": [
        "ProbX_less_6 = D_U_dist.cdf(6)\n",
        "print(\"Probability of P(x<=6): \",ProbX_less_6)"
      ],
      "metadata": {
        "colab": {
          "base_uri": "https://localhost:8080/"
        },
        "id": "HNL2hTfvz4ZQ",
        "outputId": "8ec42bdc-b3fc-4b35-9351-e403c41e1678"
      },
      "execution_count": 16,
      "outputs": [
        {
          "output_type": "stream",
          "name": "stdout",
          "text": [
            "Probability of P(x<=6):  1.0\n"
          ]
        }
      ]
    },
    {
      "cell_type": "code",
      "source": [
        "X.mean()\n"
      ],
      "metadata": {
        "colab": {
          "base_uri": "https://localhost:8080/"
        },
        "id": "ie8JSPBiz-UD",
        "outputId": "1f7a921a-17d1-422e-f4d0-dd1a4574b60a"
      },
      "execution_count": 18,
      "outputs": [
        {
          "output_type": "execute_result",
          "data": {
            "text/plain": [
              "3.5"
            ]
          },
          "metadata": {},
          "execution_count": 18
        }
      ]
    },
    {
      "cell_type": "code",
      "source": [
        "X.var()"
      ],
      "metadata": {
        "colab": {
          "base_uri": "https://localhost:8080/"
        },
        "id": "8z6OBYcI0Ew9",
        "outputId": "08301e68-3b00-4ba2-fa34-74f2c0006d0e"
      },
      "execution_count": 19,
      "outputs": [
        {
          "output_type": "execute_result",
          "data": {
            "text/plain": [
              "2.9166666666666665"
            ]
          },
          "metadata": {},
          "execution_count": 19
        }
      ]
    },
    {
      "cell_type": "code",
      "source": [
        "data = np.random.uniform(0,7,20)\n",
        "data[:5]"
      ],
      "metadata": {
        "id": "cov88xL1CuA4",
        "outputId": "fdb4e1c2-0e20-4d5b-8eca-16fcd2207de7",
        "colab": {
          "base_uri": "https://localhost:8080/"
        }
      },
      "execution_count": 20,
      "outputs": [
        {
          "output_type": "execute_result",
          "data": {
            "text/plain": [
              "array([1.24522108, 6.89899524, 3.6349049 , 3.60216362, 6.25288562])"
            ]
          },
          "metadata": {},
          "execution_count": 20
        }
      ]
    },
    {
      "cell_type": "markdown",
      "source": [
        "**Binomial Distribution**"
      ],
      "metadata": {
        "id": "JJr9jjhh2Bep"
      }
    },
    {
      "cell_type": "code",
      "source": [
        "\n",
        "\n",
        "\n",
        "from scipy.stats import binom\n",
        "     \n"
      ],
      "metadata": {
        "id": "2p9YXEjJ2Q4Q"
      },
      "execution_count": 21,
      "outputs": []
    },
    {
      "cell_type": "markdown",
      "source": [
        "Data"
      ],
      "metadata": {
        "id": "tuSWEDMx2gxM"
      }
    },
    {
      "cell_type": "code",
      "source": [
        "n = 6\n",
        "p = 0.5\n",
        "Success = list(range(n + 1))\n",
        "print('The number of heads or success possible', Success)"
      ],
      "metadata": {
        "colab": {
          "base_uri": "https://localhost:8080/"
        },
        "id": "vZqeBsxr2UD3",
        "outputId": "c3b21e42-e928-4199-aff1-9e237dd0dff3"
      },
      "execution_count": 23,
      "outputs": [
        {
          "output_type": "stream",
          "name": "stdout",
          "text": [
            "The number of heads or success possible [0, 1, 2, 3, 4, 5, 6]\n"
          ]
        }
      ]
    },
    {
      "cell_type": "markdown",
      "source": [
        "**PMF**"
      ],
      "metadata": {
        "id": "EkMBnGc_2ku0"
      }
    },
    {
      "cell_type": "code",
      "source": [
        "Binomial_dist_pmf = [binom.pmf(k, n, p) for k in Success ]\n",
        "print(Binomial_dist_pmf)"
      ],
      "metadata": {
        "colab": {
          "base_uri": "https://localhost:8080/"
        },
        "id": "Y_Dig-vt2fnX",
        "outputId": "08a1de94-0394-4d75-9e01-afd7f3304292"
      },
      "execution_count": 24,
      "outputs": [
        {
          "output_type": "stream",
          "name": "stdout",
          "text": [
            "[0.015625, 0.09375000000000003, 0.23437500000000003, 0.31249999999999983, 0.234375, 0.09375000000000003, 0.015625]\n"
          ]
        }
      ]
    },
    {
      "cell_type": "code",
      "source": [
        "\n",
        "for k in Success:\n",
        "  Binomial_dist = [binom.pmf(k, n, p)]\n",
        "  print(Binomial_dist_pmf)\n",
        "print(Binomial_dist_pmf)"
      ],
      "metadata": {
        "colab": {
          "base_uri": "https://localhost:8080/"
        },
        "id": "Ffrq7bHt2q9S",
        "outputId": "a2f8f627-98f4-456b-c6ef-691d3ca17c01"
      },
      "execution_count": 25,
      "outputs": [
        {
          "output_type": "stream",
          "name": "stdout",
          "text": [
            "[0.015625, 0.09375000000000003, 0.23437500000000003, 0.31249999999999983, 0.234375, 0.09375000000000003, 0.015625]\n",
            "[0.015625, 0.09375000000000003, 0.23437500000000003, 0.31249999999999983, 0.234375, 0.09375000000000003, 0.015625]\n",
            "[0.015625, 0.09375000000000003, 0.23437500000000003, 0.31249999999999983, 0.234375, 0.09375000000000003, 0.015625]\n",
            "[0.015625, 0.09375000000000003, 0.23437500000000003, 0.31249999999999983, 0.234375, 0.09375000000000003, 0.015625]\n",
            "[0.015625, 0.09375000000000003, 0.23437500000000003, 0.31249999999999983, 0.234375, 0.09375000000000003, 0.015625]\n",
            "[0.015625, 0.09375000000000003, 0.23437500000000003, 0.31249999999999983, 0.234375, 0.09375000000000003, 0.015625]\n",
            "[0.015625, 0.09375000000000003, 0.23437500000000003, 0.31249999999999983, 0.234375, 0.09375000000000003, 0.015625]\n",
            "[0.015625, 0.09375000000000003, 0.23437500000000003, 0.31249999999999983, 0.234375, 0.09375000000000003, 0.015625]\n"
          ]
        }
      ]
    },
    {
      "cell_type": "code",
      "source": [
        "plt.bar(Success, Binomial_dist_pmf)\n",
        "plt.xlabel('Heads')\n",
        "plt.ylabel('Probability')\n",
        "plt.show()"
      ],
      "metadata": {
        "colab": {
          "base_uri": "https://localhost:8080/",
          "height": 279
        },
        "id": "lCk_IhT82w-G",
        "outputId": "2ba6593f-cb9c-4633-e5aa-7d052c334dd8"
      },
      "execution_count": 26,
      "outputs": [
        {
          "output_type": "display_data",
          "data": {
            "text/plain": [
              "<Figure size 432x288 with 1 Axes>"
            ],
            "image/png": "[encoded data removed]"
          },
          "metadata": {
            "needs_background": "light"
          }
        }
      ]
    },
    {
      "cell_type": "markdown",
      "source": [
        "**CDF**"
      ],
      "metadata": {
        "id": "myLEwfw93MKu"
      }
    },
    {
      "cell_type": "code",
      "source": [
        "Binomial_dist_cdf = [binom.cdf(k, n, p) for k in Success ]\n",
        "Binomial_dist_cdf"
      ],
      "metadata": {
        "colab": {
          "base_uri": "https://localhost:8080/"
        },
        "id": "KnSri3OR3O1e",
        "outputId": "19c09062-1507-4aca-f061-c4457e910064"
      },
      "execution_count": 27,
      "outputs": [
        {
          "output_type": "execute_result",
          "data": {
            "text/plain": [
              "[0.015625, 0.109375, 0.34375, 0.65625, 0.890625, 0.984375, 1.0]"
            ]
          },
          "metadata": {},
          "execution_count": 27
        }
      ]
    },
    {
      "cell_type": "code",
      "source": [
        "plt.bar(Success, Binomial_dist_cdf)\n",
        "plt.xlabel('Heads')\n",
        "plt.ylabel('Probability')\n",
        "plt.show()"
      ],
      "metadata": {
        "colab": {
          "base_uri": "https://localhost:8080/",
          "height": 279
        },
        "id": "kEjLCuXj3UiY",
        "outputId": "1c204c2f-532c-4ca7-f14f-e726b7c2070c"
      },
      "execution_count": 28,
      "outputs": [
        {
          "output_type": "display_data",
          "data": {
            "text/plain": [
              "<Figure size 432x288 with 1 Axes>"
            ],
            "image/png": "[encoded data removed]"
          },
          "metadata": {
            "needs_background": "light"
          }
        }
      ]
    },
    {
      "cell_type": "markdown",
      "source": [
        "**MEAN, VAR**"
      ],
      "metadata": {
        "id": "9N9XAm7Z3Zim"
      }
    },
    {
      "cell_type": "code",
      "source": [
        "mean, var = binom.stats(n, p)\n",
        "print('mean is', mean, 'and variance is', var)"
      ],
      "metadata": {
        "colab": {
          "base_uri": "https://localhost:8080/"
        },
        "id": "4zDl50ku3XYM",
        "outputId": "8aaaa2bf-e9b2-4435-a192-1ef211d8d176"
      },
      "execution_count": 29,
      "outputs": [
        {
          "output_type": "stream",
          "name": "stdout",
          "text": [
            "mean is 3.0 and variance is 1.5\n"
          ]
        }
      ]
    },
    {
      "cell_type": "markdown",
      "source": [
        "**GEOMETRIC DISTRIBUTION**"
      ],
      "metadata": {
        "id": "xSpARrI03vz2"
      }
    },
    {
      "cell_type": "code",
      "source": [
        "from scipy.stats import geom    "
      ],
      "metadata": {
        "id": "Z4hdydLg30Vc"
      },
      "execution_count": 30,
      "outputs": []
    },
    {
      "cell_type": "code",
      "source": [
        "k = 6\n",
        "p = 0.5\n",
        "# defining Success as getting a Heads\n",
        "trials = list(range(1,k + 1))\n",
        "print('The number of trials before 1st success possible', trials)"
      ],
      "metadata": {
        "colab": {
          "base_uri": "https://localhost:8080/"
        },
        "id": "2BSspV1L35Xa",
        "outputId": "b1e98512-c554-40da-b897-4a14f8d94e8e"
      },
      "execution_count": 31,
      "outputs": [
        {
          "output_type": "stream",
          "name": "stdout",
          "text": [
            "The number of trials before 1st success possible [1, 2, 3, 4, 5, 6]\n"
          ]
        }
      ]
    },
    {
      "cell_type": "markdown",
      "source": [
        "**PMF**"
      ],
      "metadata": {
        "id": "KPROVQO84KZW"
      }
    },
    {
      "cell_type": "code",
      "source": [
        "geom_dist_pmf = [geom.pmf(x, p) for x in trials ]\n",
        "print(geom_dist_pmf)"
      ],
      "metadata": {
        "colab": {
          "base_uri": "https://localhost:8080/"
        },
        "id": "kva2QexA4H65",
        "outputId": "8adec831-ecfc-4900-d8a9-e830539c75a5"
      },
      "execution_count": 32,
      "outputs": [
        {
          "output_type": "stream",
          "name": "stdout",
          "text": [
            "[0.5, 0.25, 0.125, 0.0625, 0.03125, 0.015625]\n"
          ]
        }
      ]
    },
    {
      "cell_type": "code",
      "source": [
        "plt.plot(trials, geom.pmf(trials, p), 'bo', ms=8, label='geom pmf')\n",
        "plt.vlines(trials,0, geom.pmf(trials, p), colors='b', lw=5, alpha=0.5)"
      ],
      "metadata": {
        "colab": {
          "base_uri": "https://localhost:8080/",
          "height": 282
        },
        "id": "eqzRu9Ah4Otc",
        "outputId": "4dd080db-d586-40b2-d50e-5d46143bd824"
      },
      "execution_count": 33,
      "outputs": [
        {
          "output_type": "execute_result",
          "data": {
            "text/plain": [
              "<matplotlib.collections.LineCollection at 0x7f2591d620d0>"
            ]
          },
          "metadata": {},
          "execution_count": 33
        },
        {
          "output_type": "display_data",
          "data": {
            "text/plain": [
              "<Figure size 432x288 with 1 Axes>"
            ],
            "image/png": "[encoded data removed]"
          },
          "metadata": {
            "needs_background": "light"
          }
        }
      ]
    },
    {
      "cell_type": "markdown",
      "source": [
        "**CDF**"
      ],
      "metadata": {
        "id": "VHOkLzIj4TQT"
      }
    },
    {
      "cell_type": "code",
      "source": [
        "geom_dist_cdf= geom.cdf(trials, p)\n",
        "geom_dist_cdf"
      ],
      "metadata": {
        "colab": {
          "base_uri": "https://localhost:8080/"
        },
        "id": "w8AA-P3g4VKx",
        "outputId": "3208db76-58d6-4295-81de-60f4b86f2c9c"
      },
      "execution_count": 34,
      "outputs": [
        {
          "output_type": "execute_result",
          "data": {
            "text/plain": [
              "array([0.5     , 0.75    , 0.875   , 0.9375  , 0.96875 , 0.984375])"
            ]
          },
          "metadata": {},
          "execution_count": 34
        }
      ]
    },
    {
      "cell_type": "code",
      "source": [
        "plt.bar(trials, geom_dist_cdf)\n",
        "plt.xlabel('trials')\n",
        "plt.ylabel('cdf')\n",
        "plt.show()"
      ],
      "metadata": {
        "colab": {
          "base_uri": "https://localhost:8080/",
          "height": 279
        },
        "id": "rV7uBW0P4vaW",
        "outputId": "21088937-179b-43cc-bc55-3f082bdbec6e"
      },
      "execution_count": 35,
      "outputs": [
        {
          "output_type": "display_data",
          "data": {
            "text/plain": [
              "<Figure size 432x288 with 1 Axes>"
            ],
            "image/png": "[encoded data removed]"
          },
          "metadata": {
            "needs_background": "light"
          }
        }
      ]
    },
    {
      "cell_type": "markdown",
      "source": [
        "**MEAN, VAR**"
      ],
      "metadata": {
        "id": "vahJVlRB4yuC"
      }
    },
    {
      "cell_type": "code",
      "source": [
        "p = 0.5\n",
        "mean, var = geom.stats(p)\n",
        "print('mean is', mean, 'and variance is', var)"
      ],
      "metadata": {
        "colab": {
          "base_uri": "https://localhost:8080/"
        },
        "id": "yLeomNpd41Kq",
        "outputId": "982ff802-29a4-4dfb-9d66-983f3823222a"
      },
      "execution_count": 36,
      "outputs": [
        {
          "output_type": "stream",
          "name": "stdout",
          "text": [
            "mean is 2.0 and variance is 2.0\n"
          ]
        }
      ]
    },
    {
      "cell_type": "markdown",
      "source": [
        "**NEGATIVE BINOMIAL**"
      ],
      "metadata": {
        "id": "zCR05EtF70g2"
      }
    },
    {
      "cell_type": "code",
      "source": [
        "from scipy.stats import nbinom"
      ],
      "metadata": {
        "id": "3q5C8To08EGd"
      },
      "execution_count": 37,
      "outputs": []
    },
    {
      "cell_type": "code",
      "source": [
        "r = 2 \n",
        "p = 0.5\n",
        "# defining Success as getting a Heads\n",
        "trials = list(range(6))\n",
        "x = list(range(2,8))\n",
        "print('The number of trials before 2 successess possible', trials)\n",
        "print('The number of times coins flipped in each trial', x)"
      ],
      "metadata": {
        "colab": {
          "base_uri": "https://localhost:8080/"
        },
        "id": "c8-WIgOl8GYc",
        "outputId": "f906ff4e-b28b-413d-c0c8-68fe20e1016b"
      },
      "execution_count": 38,
      "outputs": [
        {
          "output_type": "stream",
          "name": "stdout",
          "text": [
            "The number of trials before 2 successess possible [0, 1, 2, 3, 4, 5]\n",
            "The number of times coins flipped in each trial [2, 3, 4, 5, 6, 7]\n"
          ]
        }
      ]
    },
    {
      "cell_type": "code",
      "source": [
        "nbinom_dist_pmf = [nbinom.pmf(trials, r, p) ]\n",
        "print(nbinom_dist_pmf)"
      ],
      "metadata": {
        "colab": {
          "base_uri": "https://localhost:8080/"
        },
        "id": "oldhvHAJE3dI",
        "outputId": "4fbc0ca4-c7d9-477c-e44a-511a8d6a7352"
      },
      "execution_count": 39,
      "outputs": [
        {
          "output_type": "stream",
          "name": "stdout",
          "text": [
            "[array([0.25    , 0.25    , 0.1875  , 0.125   , 0.078125, 0.046875])]\n"
          ]
        }
      ]
    },
    {
      "cell_type": "code",
      "source": [
        "plt.plot(x, nbinom.pmf(trials,r, p), 'bo', ms=8, label='geom pmf')\n",
        "plt.vlines(x,0, nbinom.pmf(trials,r, p), colors='b', lw=5, alpha=0.5)"
      ],
      "metadata": {
        "colab": {
          "base_uri": "https://localhost:8080/",
          "height": 282
        },
        "id": "vFvo4BGlE7lZ",
        "outputId": "502467b1-129e-4569-a2db-6490a4dc7ec4"
      },
      "execution_count": 41,
      "outputs": [
        {
          "output_type": "execute_result",
          "data": {
            "text/plain": [
              "<matplotlib.collections.LineCollection at 0x7f2591c9ebb0>"
            ]
          },
          "metadata": {},
          "execution_count": 41
        },
        {
          "output_type": "display_data",
          "data": {
            "text/plain": [
              "<Figure size 432x288 with 1 Axes>"
            ],
            "image/png": "[encoded data removed]"
          },
          "metadata": {
            "needs_background": "light"
          }
        }
      ]
    },
    {
      "cell_type": "code",
      "source": [
        "r, p = 2, 0.5\n",
        "mean, var = nbinom.stats(r, p)\n",
        "print('mean is', mean, 'and variance is', var)"
      ],
      "metadata": {
        "colab": {
          "base_uri": "https://localhost:8080/"
        },
        "id": "wbSp5NzzFCH0",
        "outputId": "e6afb425-e930-4720-9b65-25bae28e4e2f"
      },
      "execution_count": 42,
      "outputs": [
        {
          "output_type": "stream",
          "name": "stdout",
          "text": [
            "mean is 2.0 and variance is 4.0\n"
          ]
        }
      ]
    },
    {
      "cell_type": "markdown",
      "source": [
        "**HYPERGEOMETRIC**\n"
      ],
      "metadata": {
        "id": "1d9aYfZuFGpA"
      }
    },
    {
      "cell_type": "code",
      "source": [
        "from scipy.stats import hypergeom"
      ],
      "metadata": {
        "id": "notaC5QBFOaB"
      },
      "execution_count": 43,
      "outputs": []
    },
    {
      "cell_type": "code",
      "source": [
        "[M, n, N] = [10, 5, 3]\n",
        "rv = hypergeom(M, n, N)\n",
        "x = np.arange(0, n+1)\n",
        "pmf_cars = rv.pmf(x)\n",
        "x"
      ],
      "metadata": {
        "colab": {
          "base_uri": "https://localhost:8080/"
        },
        "id": "crb9cq-cWzA4",
        "outputId": "900209d0-4f43-4618-b751-ecda6259f0cc"
      },
      "execution_count": 64,
      "outputs": [
        {
          "output_type": "execute_result",
          "data": {
            "text/plain": [
              "array([0, 1, 2, 3, 4, 5])"
            ]
          },
          "metadata": {},
          "execution_count": 64
        }
      ]
    },
    {
      "cell_type": "code",
      "source": [
        "hypergeom_pmf= hypergeom.pmf(x, M, n, N)\n",
        "hypergeom_pmf"
      ],
      "metadata": {
        "colab": {
          "base_uri": "https://localhost:8080/"
        },
        "id": "yIIKelRxd4Db",
        "outputId": "d5c28f5b-62d4-4197-d7bf-adc46e1f46f4"
      },
      "execution_count": 70,
      "outputs": [
        {
          "output_type": "execute_result",
          "data": {
            "text/plain": [
              "array([0.08333333, 0.41666667, 0.41666667, 0.08333333, 0.        ,\n",
              "       0.        ])"
            ]
          },
          "metadata": {},
          "execution_count": 70
        }
      ]
    },
    {
      "cell_type": "code",
      "source": [
        "hypergeom_cdf = hypergeom.cdf(x, M, n, N)\n",
        "hypergeom_cdf"
      ],
      "metadata": {
        "colab": {
          "base_uri": "https://localhost:8080/"
        },
        "id": "p99SnD-7fQkR",
        "outputId": "2d7803b3-142d-43c6-dd2e-c977491393ff"
      },
      "execution_count": 69,
      "outputs": [
        {
          "output_type": "execute_result",
          "data": {
            "text/plain": [
              "array([0.08333333, 0.5       , 0.91666667, 1.        , 1.        ,\n",
              "       1.        ])"
            ]
          },
          "metadata": {},
          "execution_count": 69
        }
      ]
    },
    {
      "cell_type": "code",
      "source": [
        "hypergeom_mean = hypergeom.mean(M, n, N, loc=0)\n",
        "hypergeom_mean"
      ],
      "metadata": {
        "colab": {
          "base_uri": "https://localhost:8080/"
        },
        "id": "QBoflGiHfjCf",
        "outputId": "5f8aff3a-4f67-4bcb-c005-9c0d343e6d47"
      },
      "execution_count": 76,
      "outputs": [
        {
          "output_type": "execute_result",
          "data": {
            "text/plain": [
              "1.5"
            ]
          },
          "metadata": {},
          "execution_count": 76
        }
      ]
    },
    {
      "cell_type": "code",
      "source": [
        "hypergeom_var=hypergeom.var(M, n, N, loc=0)\n",
        "hypergeom_var"
      ],
      "metadata": {
        "colab": {
          "base_uri": "https://localhost:8080/"
        },
        "id": "QJmM0G0qgTLS",
        "outputId": "158be4d0-c0d3-4db0-a2ac-b05a429aa694"
      },
      "execution_count": 78,
      "outputs": [
        {
          "output_type": "execute_result",
          "data": {
            "text/plain": [
              "0.5833333333333334"
            ]
          },
          "metadata": {},
          "execution_count": 78
        }
      ]
    },
    {
      "cell_type": "code",
      "source": [
        "fig = plt.figure()\n",
        "ax = fig.add_subplot(111)\n",
        "ax.plot(x, pmf_cars, 'bo')\n",
        "ax.vlines(x, 0, pmf_cars, lw=2)\n",
        "ax.set_xlabel('# of cars in our parking lot')\n",
        "ax.set_ylabel('hypergeom PMF')\n",
        "plt.show()"
      ],
      "metadata": {
        "colab": {
          "base_uri": "https://localhost:8080/",
          "height": 279
        },
        "id": "uIppRHIhe7xy",
        "outputId": "e509dd37-4177-438c-c8c3-1b8c1955e3f6"
      },
      "execution_count": 67,
      "outputs": [
        {
          "output_type": "display_data",
          "data": {
            "text/plain": [
              "<Figure size 432x288 with 1 Axes>"
            ],
            "image/png": "[encoded data removed]"
          },
          "metadata": {
            "needs_background": "light"
          }
        }
      ]
    },
    {
      "cell_type": "code",
      "source": [],
      "metadata": {
        "id": "OvglNWptfPyx"
      },
      "execution_count": null,
      "outputs": []
    }
  ]
}