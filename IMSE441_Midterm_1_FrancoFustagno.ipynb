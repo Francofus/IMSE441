{
  "nbformat": 4,
  "nbformat_minor": 0,
  "metadata": {
    "colab": {
      "provenance": [],
      "authorship_tag": "ABX9TyNUQlcnXYmhWlytM6Q5CTAC",
      "include_colab_link": true
    },
    "kernelspec": {
      "name": "python3",
      "display_name": "Python 3"
    },
    "language_info": {
      "name": "python"
    }
  },
  "cells": [
    {
      "cell_type": "markdown",
      "metadata": {
        "id": "view-in-github",
        "colab_type": "text"
      },
      "source": [
        "<a href=\"https://colab.research.google.com/github/Francofus/IMSE441/blob/main/IMSE441_Midterm_1_FrancoFustagno.ipynb\" target=\"_parent\"><img src=\"https://colab.research.google.com/assets/colab-badge.svg\" alt=\"Open In Colab\"/></a>"
      ]
    },
    {
      "cell_type": "markdown",
      "source": [
        "IMSE 441 MIDTERM 1\n",
        "Please rename the file as 'IMSE441_Midterm_1_(your initials)\n",
        "\n",
        "Complete your exam and upload the google colab code link as a submission\n",
        "\n",
        "Use whatever material you have as a reference when solving but please dont discuss with friends or simply copy without logic\n",
        "\n",
        "Total exam is 100 marks, of which 30points for in class exam and 70 marks is takehome for coding\n",
        "\n",
        "Of the 70 marks of coding, 5 points will be awarded for writing the code in a well organized manner like headings and # comments or interpretation of what you are doing in the code. Make sure all graphs or pvalues have interpretation.\n",
        "\n",
        "*Hint:* If sample size of dataframe is already small, i.e. <=30, you dont need to create a smaller dataframe to perform t-test.\n",
        "\n",
        "ALL THE VERY BEST!`"
      ],
      "metadata": {
        "id": "ScyE6BvtkapC"
      }
    },
    {
      "cell_type": "markdown",
      "source": [
        "**Question1: (20 points)**"
      ],
      "metadata": {
        "id": "crTKdCAikhOJ"
      }
    },
    {
      "cell_type": "markdown",
      "source": [
        "a) Choose a discrete and continuous distribution of your choice, generate random samples and find their mean, variance and standard deviation.\n",
        "\n",
        "b)Plot pmf/pdf and cdf of both the distributions.\n",
        "\n",
        "c)What is the difference between pmf and pdf?"
      ],
      "metadata": {
        "id": "fk2GFmatklgz"
      }
    },
    {
      "cell_type": "code",
      "source": [
        "import pandas as pd\n",
        "import numpy as np\n",
        "import matplotlib.pyplot as plt\n",
        "import scipy.stats as stats\n",
        "from scipy.stats import randint \n",
        "from scipy.stats import norm\n",
        "from scipy.stats import poisson\n",
        "from scipy.stats import binom\n",
        "from scipy import stats"
      ],
      "metadata": {
        "id": "Mra-Qy7Qkj4J"
      },
      "execution_count": 98,
      "outputs": []
    },
    {
      "cell_type": "code",
      "source": [
        "#For discrete I choose poisson \n",
        "mu = 5\n",
        "samples = poisson.rvs(mu=mu, size=100)\n",
        "samples"
      ],
      "metadata": {
        "colab": {
          "base_uri": "https://localhost:8080/"
        },
        "id": "8aajSHzAJ3lt",
        "outputId": "484098b0-5dc1-4ffd-d0ee-648511dc4d92"
      },
      "execution_count": 26,
      "outputs": [
        {
          "output_type": "execute_result",
          "data": {
            "text/plain": [
              "array([ 5,  7,  7,  7,  7,  9,  4,  7,  6,  6,  3,  5, 11,  4,  2,  5,  5,\n",
              "        3,  3,  5,  5,  9,  3,  8,  5,  5,  4,  1,  6,  8,  4,  8,  6,  1,\n",
              "       10,  2,  3,  9,  2,  3,  7, 10,  4,  4,  5,  7,  8,  6,  5,  4,  5,\n",
              "       10,  6,  8,  7,  6,  8,  8,  1,  6,  7,  4,  9,  2,  3,  4,  7,  5,\n",
              "        4,  6,  7,  3,  9,  6,  8,  3,  8,  8,  8,  5,  4,  2,  4,  3,  4,\n",
              "        4,  6,  5,  4,  5,  5,  6,  2,  4,  4,  5,  2,  6,  4,  3])"
            ]
          },
          "metadata": {},
          "execution_count": 26
        }
      ]
    },
    {
      "cell_type": "code",
      "source": [
        "#calculate mean variance and std deviation of sample\n",
        "mean = np.mean(samples)\n",
        "variance = np.var(samples)\n",
        "std_dev = np.std(samples)\n",
        "print('Mean:', mean)\n",
        "print('Variance:', variance)\n",
        "print('Standard Deviation:', std_dev)"
      ],
      "metadata": {
        "colab": {
          "base_uri": "https://localhost:8080/"
        },
        "id": "w7WS-xJWN15t",
        "outputId": "941a4079-d235-46c2-c6df-fedfabfe3333"
      },
      "execution_count": 27,
      "outputs": [
        {
          "output_type": "stream",
          "name": "stdout",
          "text": [
            "Mean: 5.36\n",
            "Variance: 5.0704\n",
            "Standard Deviation: 2.2517548712060114\n"
          ]
        }
      ]
    },
    {
      "cell_type": "code",
      "source": [
        "#plot pmf\n",
        "x = np.arange(0, 10)\n",
        "pmf = poisson.pmf(x, mu=mu)\n",
        "plt.stem(x, pmf, use_line_collection=True)\n",
        "plt.title('Poisson PMF (mu = 5)')\n",
        "plt.xlabel('x')\n",
        "plt.ylabel('Probability')\n",
        "plt.show()"
      ],
      "metadata": {
        "colab": {
          "base_uri": "https://localhost:8080/",
          "height": 295
        },
        "id": "w7I45t2HOQFa",
        "outputId": "95db29d9-be48-4ccc-d2dc-c45f2317511f"
      },
      "execution_count": 28,
      "outputs": [
        {
          "output_type": "display_data",
          "data": {
            "text/plain": [
              "<Figure size 432x288 with 1 Axes>"
            ],
            "image/png": "[encoded data removed]"
          },
          "metadata": {
            "needs_background": "light"
          }
        }
      ]
    },
    {
      "cell_type": "code",
      "source": [
        "#plot cdf\n",
        "x = np.linspace(0, 11, 100)\n",
        "cdf = poisson.cdf(x, mu=mu)\n",
        "plt.plot(x, cdf)\n",
        "plt.title('Poisson CDF (mu = 5)')\n",
        "plt.xlabel('x')\n",
        "plt.ylabel('Prob')\n",
        "plt.show()"
      ],
      "metadata": {
        "colab": {
          "base_uri": "https://localhost:8080/",
          "height": 295
        },
        "id": "xf820fxtO5X7",
        "outputId": "27a2a31c-fccc-4bcc-d300-f5d0d2b24638"
      },
      "execution_count": 5,
      "outputs": [
        {
          "output_type": "display_data",
          "data": {
            "text/plain": [
              "<Figure size 432x288 with 1 Axes>"
            ],
            "image/png": "[encoded data removed]"
          },
          "metadata": {
            "needs_background": "light"
          }
        }
      ]
    },
    {
      "cell_type": "markdown",
      "source": [
        "**continuous distribution**"
      ],
      "metadata": {
        "id": "qhNNvne2PFiZ"
      }
    },
    {
      "cell_type": "code",
      "source": [
        "#Normal dist for continuous distribution\n",
        "mu = 0  \n",
        "sigma = 1  \n",
        "samples = norm.rvs(loc=mu, scale=sigma, size=50)\n",
        "samples"
      ],
      "metadata": {
        "colab": {
          "base_uri": "https://localhost:8080/"
        },
        "id": "DPTcLQY-PE61",
        "outputId": "9aa1c83b-ca82-4dde-9b1e-f6be8c19a014"
      },
      "execution_count": 8,
      "outputs": [
        {
          "output_type": "execute_result",
          "data": {
            "text/plain": [
              "array([ 1.41482846,  0.70340969,  1.22907846, -0.79888303,  0.73192844,\n",
              "        1.65547074, -0.58338199, -0.27294603,  1.2046663 ,  1.1328297 ,\n",
              "        0.48875897,  0.19049847,  1.35129059,  0.02958974, -1.19892136,\n",
              "        1.04098857,  1.79100533, -0.50030369,  0.20573303,  0.54620666,\n",
              "        0.87989379,  0.34904081,  0.7352131 ,  0.83684798,  0.7486055 ,\n",
              "        0.88385445,  1.46509203, -0.7156043 , -0.69063711,  0.66195634,\n",
              "       -1.82733148,  0.12524776,  1.90493883, -0.41664433, -0.74314636,\n",
              "        2.71012016, -0.21284443, -0.51181617,  1.62418444,  0.21394583,\n",
              "        0.21315289, -0.41756381, -0.57439603, -0.1174013 , -2.14559419,\n",
              "        0.1241477 , -0.67562936, -0.24804498, -0.28798442, -0.50521897])"
            ]
          },
          "metadata": {},
          "execution_count": 8
        }
      ]
    },
    {
      "cell_type": "code",
      "source": [
        "mean = np.mean(samples)\n",
        "mean"
      ],
      "metadata": {
        "colab": {
          "base_uri": "https://localhost:8080/"
        },
        "id": "EOM-queW4Hcr",
        "outputId": "9bddff19-912a-4111-abac-40b0447f71ff"
      },
      "execution_count": 9,
      "outputs": [
        {
          "output_type": "execute_result",
          "data": {
            "text/plain": [
              "0.27496462815660055"
            ]
          },
          "metadata": {},
          "execution_count": 9
        }
      ]
    },
    {
      "cell_type": "code",
      "source": [
        "variance = np.var(samples)\n",
        "variance"
      ],
      "metadata": {
        "colab": {
          "base_uri": "https://localhost:8080/"
        },
        "id": "117apHdn4NAm",
        "outputId": "110759b1-9708-4aba-a953-d1d5e31e8c01"
      },
      "execution_count": 10,
      "outputs": [
        {
          "output_type": "execute_result",
          "data": {
            "text/plain": [
              "0.9369740330063853"
            ]
          },
          "metadata": {},
          "execution_count": 10
        }
      ]
    },
    {
      "cell_type": "code",
      "source": [
        "standard_dev = np.std(samples)\n",
        "standard_dev"
      ],
      "metadata": {
        "colab": {
          "base_uri": "https://localhost:8080/"
        },
        "id": "s4sQ4O9W4SEh",
        "outputId": "ec5ce596-ae7f-448f-e56b-d8bb687286da"
      },
      "execution_count": 12,
      "outputs": [
        {
          "output_type": "execute_result",
          "data": {
            "text/plain": [
              "0.9679741902583897"
            ]
          },
          "metadata": {},
          "execution_count": 12
        }
      ]
    },
    {
      "cell_type": "code",
      "source": [
        "#define parameters and range for pmf\n",
        "n=10\n",
        "p=0.5\n",
        "range=range(n+1)"
      ],
      "metadata": {
        "id": "iT3Q7vm54bYB"
      },
      "execution_count": 13,
      "outputs": []
    },
    {
      "cell_type": "code",
      "source": [
        "pmf = binom.pmf(range, n, p )\n",
        "pmf"
      ],
      "metadata": {
        "colab": {
          "base_uri": "https://localhost:8080/"
        },
        "id": "hbkeejxx452-",
        "outputId": "5c6b2a79-9628-4579-cb9f-b630225c02ff"
      },
      "execution_count": 16,
      "outputs": [
        {
          "output_type": "execute_result",
          "data": {
            "text/plain": [
              "array([0.00097656, 0.00976563, 0.04394531, 0.1171875 , 0.20507812,\n",
              "       0.24609375, 0.20507812, 0.1171875 , 0.04394531, 0.00976563,\n",
              "       0.00097656])"
            ]
          },
          "metadata": {},
          "execution_count": 16
        }
      ]
    },
    {
      "cell_type": "code",
      "source": [
        "plt.bar(range, pmf)"
      ],
      "metadata": {
        "colab": {
          "base_uri": "https://localhost:8080/",
          "height": 282
        },
        "id": "NVP3cADP5EmX",
        "outputId": "a8c64b52-433c-40d0-fb6a-0b8510863533"
      },
      "execution_count": 17,
      "outputs": [
        {
          "output_type": "execute_result",
          "data": {
            "text/plain": [
              "<BarContainer object of 11 artists>"
            ]
          },
          "metadata": {},
          "execution_count": 17
        },
        {
          "output_type": "display_data",
          "data": {
            "text/plain": [
              "<Figure size 432x288 with 1 Axes>"
            ],
            "image/png": "[encoded data removed]"
          },
          "metadata": {
            "needs_background": "light"
          }
        }
      ]
    },
    {
      "cell_type": "code",
      "source": [
        "cdf = binom.cdf(range, n, p)\n",
        "cdf"
      ],
      "metadata": {
        "colab": {
          "base_uri": "https://localhost:8080/"
        },
        "id": "DyL8i_Nq5puJ",
        "outputId": "5e2642ef-f0c2-4314-b057-b38f6e65a12c"
      },
      "execution_count": 29,
      "outputs": [
        {
          "output_type": "execute_result",
          "data": {
            "text/plain": [
              "array([9.76562500e-04, 1.07421875e-02, 5.46875000e-02, 1.71875000e-01,\n",
              "       3.76953125e-01, 6.23046875e-01, 8.28125000e-01, 9.45312500e-01,\n",
              "       9.89257812e-01, 9.99023438e-01, 1.00000000e+00])"
            ]
          },
          "metadata": {},
          "execution_count": 29
        }
      ]
    },
    {
      "cell_type": "code",
      "source": [
        "plt.bar(range, cdf)"
      ],
      "metadata": {
        "colab": {
          "base_uri": "https://localhost:8080/",
          "height": 282
        },
        "id": "Fp-Q8QBq5zRH",
        "outputId": "8602a441-fd42-4832-eb4b-9da927068b68"
      },
      "execution_count": 30,
      "outputs": [
        {
          "output_type": "execute_result",
          "data": {
            "text/plain": [
              "<BarContainer object of 11 artists>"
            ]
          },
          "metadata": {},
          "execution_count": 30
        },
        {
          "output_type": "display_data",
          "data": {
            "text/plain": [
              "<Figure size 432x288 with 1 Axes>"
            ],
            "image/png": "[encoded data removed]"
          },
          "metadata": {
            "needs_background": "light"
          }
        }
      ]
    },
    {
      "cell_type": "markdown",
      "source": [
        "**Pmf is commonly used for discrete random variables and pdf is used for continuous random variables . Pmf is the probability to each value and Pdf is the probabilities of intervals od those possible values.**"
      ],
      "metadata": {
        "id": "sRMUeuWz53cc"
      }
    },
    {
      "cell_type": "markdown",
      "source": [
        "**Question2: (30 points)**"
      ],
      "metadata": {
        "id": "8-IQdU6jmO_2"
      }
    },
    {
      "cell_type": "markdown",
      "source": [
        "a) Import the data \"OTT_platform_data.csv\" and perform data cleaning, descriptive statistics on the dataset to generate clean data\n",
        "\n",
        "b) How many people watch Netflix and how many watch prime? What is the mean time spent on both the platforms.\n",
        "\n",
        "c) Plot a pie chart to answer the question: Based on the dataset do people like Netflix or prime more?\n",
        "\n",
        "d) Construct a boxplot to see variability of time data on both the platforms. From the plot, determine an approximate median value each platform"
      ],
      "metadata": {
        "id": "C1_Wv5GRmRwY"
      }
    },
    {
      "cell_type": "code",
      "source": [
        "#import dataset\n",
        "url = \"https://raw.githubusercontent.com/KhmAsif/IMSE441/main/OTT_platform_data.csv\"\n",
        "df = pd.read_csv(url)\n",
        "df.head()"
      ],
      "metadata": {
        "colab": {
          "base_uri": "https://localhost:8080/",
          "height": 206
        },
        "id": "byYHjkHZmXSb",
        "outputId": "206505d9-873a-48e6-b01b-1fd8bbeb4a17"
      },
      "execution_count": 76,
      "outputs": [
        {
          "output_type": "execute_result",
          "data": {
            "text/plain": [
              "       Platform  Time\n",
              "0       Netflix  0.21\n",
              "1  Amazon Prime  2.53\n",
              "2       Netflix  0.35\n",
              "3  Amazon Prime  0.71\n",
              "4       Netflix  0.67"
            ],
            "text/html": [
              "\n",
              "  <div id=\"df-def878c4-1379-4f1a-b235-d4c5ac89eeff\">\n",
              "    <div class=\"colab-df-container\">\n",
              "      <div>\n",
              "<style scoped>\n",
              "    .dataframe tbody tr th:only-of-type {\n",
              "        vertical-align: middle;\n",
              "    }\n",
              "\n",
              "    .dataframe tbody tr th {\n",
              "        vertical-align: top;\n",
              "    }\n",
              "\n",
              "    .dataframe thead th {\n",
              "        text-align: right;\n",
              "    }\n",
              "</style>\n",
              "<table border=\"1\" class=\"dataframe\">\n",
              "  <thead>\n",
              "    <tr style=\"text-align: right;\">\n",
              "      <th></th>\n",
              "      <th>Platform</th>\n",
              "      <th>Time</th>\n",
              "    </tr>\n",
              "  </thead>\n",
              "  <tbody>\n",
              "    <tr>\n",
              "      <th>0</th>\n",
              "      <td>Netflix</td>\n",
              "      <td>0.21</td>\n",
              "    </tr>\n",
              "    <tr>\n",
              "      <th>1</th>\n",
              "      <td>Amazon Prime</td>\n",
              "      <td>2.53</td>\n",
              "    </tr>\n",
              "    <tr>\n",
              "      <th>2</th>\n",
              "      <td>Netflix</td>\n",
              "      <td>0.35</td>\n",
              "    </tr>\n",
              "    <tr>\n",
              "      <th>3</th>\n",
              "      <td>Amazon Prime</td>\n",
              "      <td>0.71</td>\n",
              "    </tr>\n",
              "    <tr>\n",
              "      <th>4</th>\n",
              "      <td>Netflix</td>\n",
              "      <td>0.67</td>\n",
              "    </tr>\n",
              "  </tbody>\n",
              "</table>\n",
              "</div>\n",
              "      <button class=\"colab-df-convert\" onclick=\"convertToInteractive('df-def878c4-1379-4f1a-b235-d4c5ac89eeff')\"\n",
              "              title=\"Convert this dataframe to an interactive table.\"\n",
              "              style=\"display:none;\">\n",
              "        \n",
              "  <svg xmlns=\"http://www.w3.org/2000/svg\" height=\"24px\"viewBox=\"0 0 24 24\"\n",
              "       width=\"24px\">\n",
              "    <path d=\"M0 0h24v24H0V0z\" fill=\"none\"/>\n",
              "    <path d=\"M18.56 5.44l.94 2.06.94-2.06 2.06-.94-2.06-.94-.94-2.06-.94 2.06-2.06.94zm-11 1L8.5 8.5l.94-2.06 2.06-.94-2.06-.94L8.5 2.5l-.94 2.06-2.06.94zm10 10l.94 2.06.94-2.06 2.06-.94-2.06-.94-.94-2.06-.94 2.06-2.06.94z\"/><path d=\"M17.41 7.96l-1.37-1.37c-.4-.4-.92-.59-1.43-.59-.52 0-1.04.2-1.43.59L10.3 9.45l-7.72 7.72c-.78.78-.78 2.05 0 2.83L4 21.41c.39.39.9.59 1.41.59.51 0 1.02-.2 1.41-.59l7.78-7.78 2.81-2.81c.8-.78.8-2.07 0-2.86zM5.41 20L4 18.59l7.72-7.72 1.47 1.35L5.41 20z\"/>\n",
              "  </svg>\n",
              "      </button>\n",
              "      \n",
              "  <style>\n",
              "    .colab-df-container {\n",
              "      display:flex;\n",
              "      flex-wrap:wrap;\n",
              "      gap: 12px;\n",
              "    }\n",
              "\n",
              "    .colab-df-convert {\n",
              "      background-color: #E8F0FE;\n",
              "      border: none;\n",
              "      border-radius: 50%;\n",
              "      cursor: pointer;\n",
              "      display: none;\n",
              "      fill: #1967D2;\n",
              "      height: 32px;\n",
              "      padding: 0 0 0 0;\n",
              "      width: 32px;\n",
              "    }\n",
              "\n",
              "    .colab-df-convert:hover {\n",
              "      background-color: #E2EBFA;\n",
              "      box-shadow: 0px 1px 2px rgba(60, 64, 67, 0.3), 0px 1px 3px 1px rgba(60, 64, 67, 0.15);\n",
              "      fill: #174EA6;\n",
              "    }\n",
              "\n",
              "    [theme=dark] .colab-df-convert {\n",
              "      background-color: #3B4455;\n",
              "      fill: #D2E3FC;\n",
              "    }\n",
              "\n",
              "    [theme=dark] .colab-df-convert:hover {\n",
              "      background-color: #434B5C;\n",
              "      box-shadow: 0px 1px 3px 1px rgba(0, 0, 0, 0.15);\n",
              "      filter: drop-shadow(0px 1px 2px rgba(0, 0, 0, 0.3));\n",
              "      fill: #FFFFFF;\n",
              "    }\n",
              "  </style>\n",
              "\n",
              "      <script>\n",
              "        const buttonEl =\n",
              "          document.querySelector('#df-def878c4-1379-4f1a-b235-d4c5ac89eeff button.colab-df-convert');\n",
              "        buttonEl.style.display =\n",
              "          google.colab.kernel.accessAllowed ? 'block' : 'none';\n",
              "\n",
              "        async function convertToInteractive(key) {\n",
              "          const element = document.querySelector('#df-def878c4-1379-4f1a-b235-d4c5ac89eeff');\n",
              "          const dataTable =\n",
              "            await google.colab.kernel.invokeFunction('convertToInteractive',\n",
              "                                                     [key], {});\n",
              "          if (!dataTable) return;\n",
              "\n",
              "          const docLinkHtml = 'Like what you see? Visit the ' +\n",
              "            '<a target=\"_blank\" href=https://colab.research.google.com/notebooks/data_table.ipynb>data table notebook</a>'\n",
              "            + ' to learn more about interactive tables.';\n",
              "          element.innerHTML = '';\n",
              "          dataTable['output_type'] = 'display_data';\n",
              "          await google.colab.output.renderOutput(dataTable, element);\n",
              "          const docLink = document.createElement('div');\n",
              "          docLink.innerHTML = docLinkHtml;\n",
              "          element.appendChild(docLink);\n",
              "        }\n",
              "      </script>\n",
              "    </div>\n",
              "  </div>\n",
              "  "
            ]
          },
          "metadata": {},
          "execution_count": 76
        }
      ]
    },
    {
      "cell_type": "code",
      "source": [
        "for col in df:\n",
        "  print(col)"
      ],
      "metadata": {
        "id": "3dHFGFJY-W9Z"
      },
      "execution_count": null,
      "outputs": []
    },
    {
      "cell_type": "code",
      "source": [
        "df.info()"
      ],
      "metadata": {
        "colab": {
          "base_uri": "https://localhost:8080/"
        },
        "id": "u9ExHfqfmXMl",
        "outputId": "64783290-8046-4c06-be8c-cda59ac7ba8d"
      },
      "execution_count": 77,
      "outputs": [
        {
          "output_type": "stream",
          "name": "stdout",
          "text": [
            "<class 'pandas.core.frame.DataFrame'>\n",
            "RangeIndex: 24 entries, 0 to 23\n",
            "Data columns (total 2 columns):\n",
            " #   Column    Non-Null Count  Dtype  \n",
            "---  ------    --------------  -----  \n",
            " 0   Platform  23 non-null     object \n",
            " 1   Time      22 non-null     float64\n",
            "dtypes: float64(1), object(1)\n",
            "memory usage: 512.0+ bytes\n"
          ]
        }
      ]
    },
    {
      "cell_type": "code",
      "source": [
        "df.isnull().sum()"
      ],
      "metadata": {
        "colab": {
          "base_uri": "https://localhost:8080/"
        },
        "id": "llob2C-BmXFe",
        "outputId": "ddf846cd-4fa1-49e3-c22a-c18e77cf17c9"
      },
      "execution_count": 78,
      "outputs": [
        {
          "output_type": "execute_result",
          "data": {
            "text/plain": [
              "Platform    1\n",
              "Time        2\n",
              "dtype: int64"
            ]
          },
          "metadata": {},
          "execution_count": 78
        }
      ]
    },
    {
      "cell_type": "code",
      "source": [
        "df = df.dropna()\n",
        "df.info()"
      ],
      "metadata": {
        "colab": {
          "base_uri": "https://localhost:8080/"
        },
        "id": "EppzdduRmW-E",
        "outputId": "f9bfafaf-55bc-4ccb-aea3-9b15b2a79ba7"
      },
      "execution_count": 79,
      "outputs": [
        {
          "output_type": "stream",
          "name": "stdout",
          "text": [
            "<class 'pandas.core.frame.DataFrame'>\n",
            "Int64Index: 21 entries, 0 to 22\n",
            "Data columns (total 2 columns):\n",
            " #   Column    Non-Null Count  Dtype  \n",
            "---  ------    --------------  -----  \n",
            " 0   Platform  21 non-null     object \n",
            " 1   Time      21 non-null     float64\n",
            "dtypes: float64(1), object(1)\n",
            "memory usage: 504.0+ bytes\n"
          ]
        }
      ]
    },
    {
      "cell_type": "code",
      "source": [
        "df.columns = df.columns.str.replace(' ', '')\n",
        "df.columns"
      ],
      "metadata": {
        "colab": {
          "base_uri": "https://localhost:8080/"
        },
        "id": "qQdoWmwqmW2E",
        "outputId": "879e93a7-3bf9-4982-dfcd-907a4df3d7ac"
      },
      "execution_count": 69,
      "outputs": [
        {
          "output_type": "execute_result",
          "data": {
            "text/plain": [
              "Index(['id', 'Platform', 'Time'], dtype='object')"
            ]
          },
          "metadata": {},
          "execution_count": 69
        }
      ]
    },
    {
      "cell_type": "code",
      "source": [
        "df.columns = df.columns.str.lower()\n",
        "df.columns"
      ],
      "metadata": {
        "colab": {
          "base_uri": "https://localhost:8080/"
        },
        "id": "jP-IrwSnmWrT",
        "outputId": "aab5df90-7729-4f17-e539-6edd625afd9d"
      },
      "execution_count": 80,
      "outputs": [
        {
          "output_type": "execute_result",
          "data": {
            "text/plain": [
              "Index(['platform', 'time'], dtype='object')"
            ]
          },
          "metadata": {},
          "execution_count": 80
        }
      ]
    },
    {
      "cell_type": "code",
      "source": [
        "netflix_count = df['platform'].str.count('Netflix').sum()\n",
        "netflix_count"
      ],
      "metadata": {
        "colab": {
          "base_uri": "https://localhost:8080/"
        },
        "id": "m-IS2XrWCkwe",
        "outputId": "1640bd44-4b4a-443c-9d3b-a02806ae1d23"
      },
      "execution_count": 88,
      "outputs": [
        {
          "output_type": "execute_result",
          "data": {
            "text/plain": [
              "11"
            ]
          },
          "metadata": {},
          "execution_count": 88
        }
      ]
    },
    {
      "cell_type": "code",
      "source": [
        "Prime_count = df['platform'].str.count('Amazon Prime').sum()\n",
        "Prime_count"
      ],
      "metadata": {
        "colab": {
          "base_uri": "https://localhost:8080/"
        },
        "id": "D1vp78JODJFk",
        "outputId": "764ce322-4a60-46dd-9d99-04ba23387ac3"
      },
      "execution_count": 89,
      "outputs": [
        {
          "output_type": "execute_result",
          "data": {
            "text/plain": [
              "10"
            ]
          },
          "metadata": {},
          "execution_count": 89
        }
      ]
    },
    {
      "cell_type": "code",
      "source": [
        "platform_means = df.groupby('platform')['time'].mean()\n",
        "platform_means"
      ],
      "metadata": {
        "colab": {
          "base_uri": "https://localhost:8080/"
        },
        "id": "Zpxaym348tDF",
        "outputId": "8dda5f26-a7b8-40b7-e2b0-27e056527fb1"
      },
      "execution_count": 83,
      "outputs": [
        {
          "output_type": "execute_result",
          "data": {
            "text/plain": [
              "platform\n",
              "Amazon Prime    1.645000\n",
              "Netflix         1.264545\n",
              "Name: time, dtype: float64"
            ]
          },
          "metadata": {},
          "execution_count": 83
        }
      ]
    },
    {
      "cell_type": "code",
      "source": [
        "#Create the pie chart\n",
        "g = df.groupby('platform').size()\n",
        "g.plot(kind = 'pie', autopct='%.2f', figsize = (10,6) )"
      ],
      "metadata": {
        "colab": {
          "base_uri": "https://localhost:8080/",
          "height": 374
        },
        "id": "E8U03cUnEreQ",
        "outputId": "00011ff6-b8d5-4b91-abf4-ea5ec74951f5"
      },
      "execution_count": 92,
      "outputs": [
        {
          "output_type": "execute_result",
          "data": {
            "text/plain": [
              "<AxesSubplot:ylabel='None'>"
            ]
          },
          "metadata": {},
          "execution_count": 92
        },
        {
          "output_type": "display_data",
          "data": {
            "text/plain": [
              "<Figure size 720x432 with 1 Axes>"
            ],
            "image/png": "[encoded data removed]"
          },
          "metadata": {}
        }
      ]
    },
    {
      "cell_type": "code",
      "source": [
        "#Create the boxplot\n",
        "df.boxplot(column='time', by='platform')\n",
        "plt.xlabel('Platform')\n",
        "plt.ylabel('Time (hours)')\n",
        "plt.title('Time  by Platform')\n",
        "plt.show()"
      ],
      "metadata": {
        "colab": {
          "base_uri": "https://localhost:8080/",
          "height": 301
        },
        "id": "JXShKG_tFqtB",
        "outputId": "e5cdca20-a4c5-47e7-d3bd-849626d24033"
      },
      "execution_count": 94,
      "outputs": [
        {
          "output_type": "display_data",
          "data": {
            "text/plain": [
              "<Figure size 432x288 with 1 Axes>"
            ],
            "image/png": "[encoded data removed]"
          },
          "metadata": {
            "needs_background": "light"
          }
        }
      ]
    },
    {
      "cell_type": "markdown",
      "source": [
        "Approximate median for Prime = 1.5 Hours\n",
        "Approximate median for Netflix = 0.9 Hours"
      ],
      "metadata": {
        "id": "RexmXXG0FzYM"
      }
    },
    {
      "cell_type": "markdown",
      "source": [
        "**Question3: (15 points)**"
      ],
      "metadata": {
        "id": "p6EloDkLmX6D"
      }
    },
    {
      "cell_type": "markdown",
      "source": [
        "a) Perform tests to check the distribution of 'Time' data in OTT_platform_data.csv before you can do t-test. Check eligibility and interpret your results.\n",
        "\n",
        "b) Does the given data satisfy the criteria for t-testing eligibility? If so,perform t-test to see if 0.83 is an acceptable mean based on 99% significance level. Then create a 99% CI on the unknown mean value of 'Time'\n",
        "\n",
        "c) Is it one sided or two sided CI?\n",
        "\n",
        "d) What is the degree of freedom value for the test?\n",
        "\n",
        "e) Calculate df['Time'].mean(), is it the actual mean or sample mean?"
      ],
      "metadata": {
        "id": "pCOC0mp2mhj-"
      }
    },
    {
      "cell_type": "code",
      "source": [
        "%pip install pingouin\n",
        "import pingouin as pg"
      ],
      "metadata": {
        "id": "lZhbRdl1NF0u"
      },
      "execution_count": null,
      "outputs": []
    },
    {
      "cell_type": "code",
      "source": [
        "plt.show()            \n",
        "pg.qqplot(df['time']).set_title('time data')"
      ],
      "metadata": {
        "colab": {
          "base_uri": "https://localhost:8080/",
          "height": 312
        },
        "id": "9FlNa0ssM_lb",
        "outputId": "86b87bb0-1ffe-4c85-9b59-3533d9f7f1ea"
      },
      "execution_count": 110,
      "outputs": [
        {
          "output_type": "execute_result",
          "data": {
            "text/plain": [
              "Text(0.5, 1.0, 'time data')"
            ]
          },
          "metadata": {},
          "execution_count": 110
        },
        {
          "output_type": "display_data",
          "data": {
            "text/plain": [
              "<Figure size 432x288 with 1 Axes>"
            ],
            "image/png": "[encoded data removed]"
          },
          "metadata": {
            "needs_background": "light"
          }
        }
      ]
    },
    {
      "cell_type": "markdown",
      "source": [
        "Our time data is between the range because no values where out of the dot lines"
      ],
      "metadata": {
        "id": "YYWvcl6SOdlh"
      }
    },
    {
      "cell_type": "code",
      "source": [
        "print(stats.normaltest(df['time']))"
      ],
      "metadata": {
        "colab": {
          "base_uri": "https://localhost:8080/"
        },
        "id": "uZfSGCOAnM8K",
        "outputId": "318b61a4-83f4-49de-f99a-c0cf7a9fb42a"
      },
      "execution_count": 95,
      "outputs": [
        {
          "output_type": "stream",
          "name": "stdout",
          "text": [
            "NormaltestResult(statistic=2.9693617401687833, pvalue=0.22657463588450225)\n"
          ]
        }
      ]
    },
    {
      "cell_type": "markdown",
      "source": [
        "High p-value, >= 0.05 means its normal distribution"
      ],
      "metadata": {
        "id": "V1W46r_pOzIV"
      }
    },
    {
      "cell_type": "code",
      "source": [
        "# sample is < 30 so no need to reduce\n",
        "stats.ttest_1samp(df['time'],0.83)"
      ],
      "metadata": {
        "colab": {
          "base_uri": "https://localhost:8080/"
        },
        "id": "v0Z32AhNnO7t",
        "outputId": "702fb6ba-9944-4550-9295-5b3345a54fc1"
      },
      "execution_count": 125,
      "outputs": [
        {
          "output_type": "execute_result",
          "data": {
            "text/plain": [
              "TtestResult(statistic=2.817958669950323, pvalue=0.010626190992228224, df=20)"
            ]
          },
          "metadata": {},
          "execution_count": 125
        }
      ]
    },
    {
      "cell_type": "code",
      "source": [
        "len(df)"
      ],
      "metadata": {
        "colab": {
          "base_uri": "https://localhost:8080/"
        },
        "id": "OfTThfiYnOuK",
        "outputId": "ae0f487c-15de-4582-ca18-aae233d19587"
      },
      "execution_count": 126,
      "outputs": [
        {
          "output_type": "execute_result",
          "data": {
            "text/plain": [
              "21"
            ]
          },
          "metadata": {},
          "execution_count": 126
        }
      ]
    },
    {
      "cell_type": "code",
      "source": [
        "T,P = stats.ttest_1samp(df['time'],0.83)\n",
        "T,P"
      ],
      "metadata": {
        "colab": {
          "base_uri": "https://localhost:8080/"
        },
        "id": "qBsbdo2UnM3Z",
        "outputId": "b70a93ca-1f95-47c9-897a-93df3f2f35c6"
      },
      "execution_count": 128,
      "outputs": [
        {
          "output_type": "execute_result",
          "data": {
            "text/plain": [
              "(2.817958669950323, 0.010626190992228224)"
            ]
          },
          "metadata": {},
          "execution_count": 128
        }
      ]
    },
    {
      "cell_type": "code",
      "source": [
        "CI= stats.ttest_1samp(df['time'],0.83).confidence_interval(confidence_level=0.99)\n",
        "CI"
      ],
      "metadata": {
        "colab": {
          "base_uri": "https://localhost:8080/"
        },
        "id": "zSnmnNH9RK6f",
        "outputId": "c17bfb3c-5e3b-4821-cfa0-b0eca98886c9"
      },
      "execution_count": 131,
      "outputs": [
        {
          "output_type": "execute_result",
          "data": {
            "text/plain": [
              "ConfidenceInterval(low=0.8240173368904734, high=2.067411234538098)"
            ]
          },
          "metadata": {},
          "execution_count": 131
        }
      ]
    },
    {
      "cell_type": "code",
      "source": [
        "if P < 0.05:\n",
        "  print(\"Reject Null Hypothesis i.e. actual mean is NOT 0.83 hour \")\n",
        "else:\n",
        "  print(\"Accept Null Hypothesis i.e. actual mean is 0.83 hour \")"
      ],
      "metadata": {
        "colab": {
          "base_uri": "https://localhost:8080/"
        },
        "id": "40wc62f_P8eb",
        "outputId": "6c289603-ffb9-4392-ddef-bb7dd9793e1d"
      },
      "execution_count": 130,
      "outputs": [
        {
          "output_type": "stream",
          "name": "stdout",
          "text": [
            "Reject Null Hypothesis i.e. actual mean is NOT 0.83 hour \n"
          ]
        }
      ]
    },
    {
      "cell_type": "markdown",
      "source": [
        "b)0.83 is an acceptable mean for a 99% confidence interval\n",
        "c)It is a two sided CI"
      ],
      "metadata": {
        "id": "9RNMMjmZQyaB"
      }
    },
    {
      "cell_type": "code",
      "source": [
        "#degrees of freedom\n",
        "n = len(df['time'])\n",
        "df_degrees_freedom = n - 1\n",
        "df_degrees_freedom"
      ],
      "metadata": {
        "colab": {
          "base_uri": "https://localhost:8080/"
        },
        "id": "7u0KL0USSjqY",
        "outputId": "72f70894-f4a3-4809-df46-ee8eb5906344"
      },
      "execution_count": 135,
      "outputs": [
        {
          "output_type": "execute_result",
          "data": {
            "text/plain": [
              "20"
            ]
          },
          "metadata": {},
          "execution_count": 135
        }
      ]
    },
    {
      "cell_type": "code",
      "source": [
        "df['time'].mean()"
      ],
      "metadata": {
        "colab": {
          "base_uri": "https://localhost:8080/"
        },
        "id": "KzWnRvhiSz28",
        "outputId": "2b623d8c-5867-4eaa-8350-802ccb77c563"
      },
      "execution_count": 137,
      "outputs": [
        {
          "output_type": "execute_result",
          "data": {
            "text/plain": [
              "1.4457142857142857"
            ]
          },
          "metadata": {},
          "execution_count": 137
        }
      ]
    },
    {
      "cell_type": "markdown",
      "source": [
        "e) It is the actual mean because the sample is was not large enough to be reduced"
      ],
      "metadata": {
        "id": "cpGGEZgwS3Jj"
      }
    }
  ]
}