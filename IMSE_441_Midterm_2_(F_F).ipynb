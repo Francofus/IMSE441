{
  "nbformat": 4,
  "nbformat_minor": 0,
  "metadata": {
    "colab": {
      "provenance": [],
      "authorship_tag": "ABX9TyMCT9JOoxtNCd4S0taNhyyN",
      "include_colab_link": true
    },
    "kernelspec": {
      "name": "python3",
      "display_name": "Python 3"
    },
    "language_info": {
      "name": "python"
    }
  },
  "cells": [
    {
      "cell_type": "markdown",
      "metadata": {
        "id": "view-in-github",
        "colab_type": "text"
      },
      "source": [
        "<a href=\"https://colab.research.google.com/github/Francofus/IMSE441/blob/main/IMSE_441_Midterm_2_(F_F).ipynb\" target=\"_parent\"><img src=\"https://colab.research.google.com/assets/colab-badge.svg\" alt=\"Open In Colab\"/></a>"
      ]
    },
    {
      "cell_type": "code",
      "execution_count": null,
      "metadata": {
        "id": "xmoC8A8p5-Lq"
      },
      "outputs": [],
      "source": [
        "import numpy as np\n",
        "import matplotlib.pyplot as plt\n",
        "from statsmodels.stats.power import TTestIndPower\n",
        "!pip install pingouin\n",
        "import pingouin as pg\n",
        "from scipy.stats import ttest_ind\n",
        "from scipy.stats import ttest_rel\n",
        "from scipy.stats import ttest_1samp\n",
        "from scipy.stats import ttest_1samp\n",
        "from scipy.stats import norm\n",
        "import statsmodels.stats.power as smp"
      ]
    },
    {
      "cell_type": "code",
      "source": [
        "samp = [5.0, 3.4, 3.9, 1.3, 0.2, 0.9, 2.7, 3.7, 3.8, 4.1, 1.0, 1.0, 0.8, 0.4, 3.8, 4.5, 5.3, 6.1, 6.9,6.5]"
      ],
      "metadata": {
        "id": "cTQP3OYC7nja"
      },
      "execution_count": 3,
      "outputs": []
    },
    {
      "cell_type": "code",
      "source": [
        "sigma=np.std(samp)\n",
        "sigma"
      ],
      "metadata": {
        "colab": {
          "base_uri": "https://localhost:8080/"
        },
        "id": "10P3JNmY8Rr2",
        "outputId": "91a49f11-f646-4961-8f7c-5e45e6800901"
      },
      "execution_count": 4,
      "outputs": [
        {
          "output_type": "execute_result",
          "data": {
            "text/plain": [
              "2.073469314940542"
            ]
          },
          "metadata": {},
          "execution_count": 4
        }
      ]
    },
    {
      "cell_type": "code",
      "source": [
        "ttest_1samp(a=samp, popmean= 4 )"
      ],
      "metadata": {
        "colab": {
          "base_uri": "https://localhost:8080/"
        },
        "id": "T19Es6rK8in6",
        "outputId": "0e64973e-f03c-4f4d-d0c1-06c2eb79827a"
      },
      "execution_count": 5,
      "outputs": [
        {
          "output_type": "execute_result",
          "data": {
            "text/plain": [
              "TtestResult(statistic=-1.5451353441390414, pvalue=0.13880710560932794, df=19)"
            ]
          },
          "metadata": {},
          "execution_count": 5
        }
      ]
    },
    {
      "cell_type": "code",
      "source": [
        "t_stat, p_value= ttest_1samp(a=samp, popmean= 4)"
      ],
      "metadata": {
        "id": "Vucm80yU801j"
      },
      "execution_count": 6,
      "outputs": []
    },
    {
      "cell_type": "code",
      "source": [
        "p_value"
      ],
      "metadata": {
        "colab": {
          "base_uri": "https://localhost:8080/"
        },
        "id": "dlgFAeHz85Ol",
        "outputId": "01ad5875-4ad5-4d71-ecc2-5e1420496b63"
      },
      "execution_count": 7,
      "outputs": [
        {
          "output_type": "execute_result",
          "data": {
            "text/plain": [
              "0.13880710560932794"
            ]
          },
          "metadata": {},
          "execution_count": 7
        }
      ]
    },
    {
      "cell_type": "code",
      "source": [
        "#1-a)\n",
        "if p_value < 0.01:\n",
        "  print(\"We reject the null hypothesis\")\n",
        "\n",
        "else:\n",
        "  print(\"We fail to reject the null hypothesis\")"
      ],
      "metadata": {
        "colab": {
          "base_uri": "https://localhost:8080/"
        },
        "id": "INCQwUbr88WA",
        "outputId": "800e4f9a-c242-462c-b2b3-47491f8cb367"
      },
      "execution_count": 9,
      "outputs": [
        {
          "output_type": "stream",
          "name": "stdout",
          "text": [
            "We fail to reject the null hypothesis\n"
          ]
        }
      ]
    },
    {
      "cell_type": "code",
      "source": [
        "#b)\n",
        "pg.qqplot(samp)\n",
        "plt.show()"
      ],
      "metadata": {
        "colab": {
          "base_uri": "https://localhost:8080/",
          "height": 449
        },
        "id": "Ke9pTRSQ9vO8",
        "outputId": "dc61fd4b-3838-4d8b-a801-f67b01f47917"
      },
      "execution_count": 10,
      "outputs": [
        {
          "output_type": "display_data",
          "data": {
            "text/plain": [
              "<Figure size 640x480 with 1 Axes>"
            ],
            "image/png": "[encoded data removed]"
          },
          "metadata": {}
        }
      ]
    },
    {
      "cell_type": "code",
      "source": [
        "#c)\n",
        "d=(4-3)/sigma\n",
        "d"
      ],
      "metadata": {
        "colab": {
          "base_uri": "https://localhost:8080/"
        },
        "id": "eNhstUe_95r0",
        "outputId": "f6cdfe3e-9a58-4298-e2fd-3ea21b0a54f3"
      },
      "execution_count": 30,
      "outputs": [
        {
          "output_type": "execute_result",
          "data": {
            "text/plain": [
              "0.4822834815034028"
            ]
          },
          "metadata": {},
          "execution_count": 30
        }
      ]
    },
    {
      "cell_type": "code",
      "source": [
        "alpha = 0.01\n",
        "nobs1 = 20"
      ],
      "metadata": {
        "id": "tpyR4gd3FXzG"
      },
      "execution_count": 31,
      "outputs": []
    },
    {
      "cell_type": "code",
      "source": [
        "power = smp.ttest_power(d, nobs1, alpha, alternative = 'two-sided')\n",
        "# Print results\n",
        "print('The power for the hypothesis testing is', round(power, 2))"
      ],
      "metadata": {
        "colab": {
          "base_uri": "https://localhost:8080/"
        },
        "id": "ZUy9mBPcCuQh",
        "outputId": "ffe063ef-a149-4ade-9d3c-6b5f55ea1021"
      },
      "execution_count": 32,
      "outputs": [
        {
          "output_type": "stream",
          "name": "stdout",
          "text": [
            "The power for the hypothesis testing is 0.27\n"
          ]
        }
      ]
    },
    {
      "cell_type": "code",
      "source": [
        "#d)\n",
        "d = (4-2.5)/sigma\n",
        "sample_size_samp = smp.tt_solve_power(effect_size =d, alpha = 0.01, power = 0.9, alternative = 'two-sided')\n",
        "print('The sample size needed for each group is', round(sample_size_samp))"
      ],
      "metadata": {
        "colab": {
          "base_uri": "https://localhost:8080/"
        },
        "id": "OEBapGH_F07_",
        "outputId": "735e47cd-dd5a-4302-d4a4-e9fb6537c65d"
      },
      "execution_count": 36,
      "outputs": [
        {
          "output_type": "stream",
          "name": "stdout",
          "text": [
            "The sample size needed for each group is 32\n"
          ]
        }
      ]
    },
    {
      "cell_type": "markdown",
      "source": [
        "**QUESTION #2**"
      ],
      "metadata": {
        "id": "W549Ww48HWfN"
      }
    },
    {
      "cell_type": "code",
      "source": [
        "F_1=np.array([63, 57, 58, 62, 66, 58, 61, 60, 55, 62, 59, 60, 58])\n",
        "F_2=np.array([69, 65, 59, 62, 61, 57, 59, 60, 60, 62, 61, 66, 68, 66])"
      ],
      "metadata": {
        "id": "DoE6yDwEHdCw"
      },
      "execution_count": 48,
      "outputs": []
    },
    {
      "cell_type": "code",
      "source": [
        "#A\n",
        "alpha = 0.05\n",
        "t_stat, p_value = stats.ttest_ind(F_1, F_2)\n",
        "t_stat, p_value"
      ],
      "metadata": {
        "colab": {
          "base_uri": "https://localhost:8080/"
        },
        "id": "MfpuuCVaIM1g",
        "outputId": "37a7ce16-0721-46d8-86a6-c9b1d08da65d"
      },
      "execution_count": 53,
      "outputs": [
        {
          "output_type": "execute_result",
          "data": {
            "text/plain": [
              "(-2.0120470056553175, 0.05510877276061202)"
            ]
          },
          "metadata": {},
          "execution_count": 53
        }
      ]
    },
    {
      "cell_type": "markdown",
      "source": [
        "P-Value is is grater than 0.05. Fail to reject the Null hypothesis "
      ],
      "metadata": {
        "id": "hRRe9DX2JER3"
      }
    },
    {
      "cell_type": "code",
      "source": [
        "#B\n",
        "alpha = 0.05\n",
        "t_stat, p_value = stats.ttest_ind(F_1, F_2, equal_var = False)\n",
        "t_stat, p_value"
      ],
      "metadata": {
        "colab": {
          "base_uri": "https://localhost:8080/"
        },
        "id": "KHW7wOSQKrHq",
        "outputId": "36e0c5e6-6012-422d-d5c2-bdcb383290d9"
      },
      "execution_count": 55,
      "outputs": [
        {
          "output_type": "execute_result",
          "data": {
            "text/plain": [
              "(-2.030125494186018, 0.05338206244550379)"
            ]
          },
          "metadata": {},
          "execution_count": 55
        }
      ]
    },
    {
      "cell_type": "markdown",
      "source": [
        "P-Value is is grater than 0.05. Fail to reject the Null hypothesis"
      ],
      "metadata": {
        "id": "d3vE-QVYMYRn"
      }
    },
    {
      "cell_type": "markdown",
      "source": [
        "#C \n",
        "The results from both test gave pretty similar values, both failing to reject the null Hypothesis so both giving basically the same output. Meaning that for this set of values is does not matter if they have different variances."
      ],
      "metadata": {
        "id": "_MkFXx1ZMfq3"
      }
    },
    {
      "cell_type": "code",
      "source": [
        "#D\n",
        "alpha = 0.05\n",
        "mean_diff = np.mean(F_1) - np.mean(F_2)\n",
        "std_err = np.sqrt(np.var(F_1)/len(F_1) + np.var(F_2)/len(F_2))\n",
        "t_stat = stats.t.ppf(1 - alpha/2, len(F_1) + len(F_2) - 2)\n",
        "\n",
        "Low_CI = mean_diff - t_stat * std_err\n",
        "Up_CI = mean_diff + t_stat * std_err\n",
        "Low_CI, Up_CI"
      ],
      "metadata": {
        "colab": {
          "base_uri": "https://localhost:8080/"
        },
        "id": "YHlXiN0qM6od",
        "outputId": "6c843681-9c51-46f9-c718-0ee64a416812"
      },
      "execution_count": 60,
      "outputs": [
        {
          "output_type": "execute_result",
          "data": {
            "text/plain": [
              "(-5.093091033112513, -0.06075512073364786)"
            ]
          },
          "metadata": {},
          "execution_count": 60
        }
      ]
    },
    {
      "cell_type": "markdown",
      "source": [
        "Used this method since this is not a paired t-test"
      ],
      "metadata": {
        "id": "ZtbZHHgDbMQC"
      }
    },
    {
      "cell_type": "markdown",
      "source": [
        "1)Confidence interval Low =5.093091033112513 \n",
        "2)Confidence interval High =0.06075512073364786 "
      ],
      "metadata": {
        "id": "gOQWwHxlQneW"
      }
    },
    {
      "cell_type": "code",
      "source": [
        "#E\n",
        "Bf = [85.2, 79.6, 75.8, 72.6, 91, 89.9, 82, 81.7, 67.3, 68.4, 70, 74, 66.8, 60, 94, 88.2]\n",
        "Af = [83.5,78.1, 73.2, 74, 90.2, 87, 79.9, 78.5, 64, 65.1, 67.8, 70, 64.6, 58.6, 92.9, 88]"
      ],
      "metadata": {
        "id": "AuknVp25Q9PQ"
      },
      "execution_count": 61,
      "outputs": []
    },
    {
      "cell_type": "code",
      "source": [
        "ttest_rel(a=Bf, b= Af).confidence_interval(confidence_level=.99)"
      ],
      "metadata": {
        "colab": {
          "base_uri": "https://localhost:8080/"
        },
        "id": "dUvKz_4na-uu",
        "outputId": "990be104-ce20-46e9-f031-088815f58b5f"
      },
      "execution_count": 62,
      "outputs": [
        {
          "output_type": "execute_result",
          "data": {
            "text/plain": [
              "ConfidenceInterval(low=0.9412290978412794, high=2.946270902158721)"
            ]
          },
          "metadata": {},
          "execution_count": 62
        }
      ]
    }
  ]
}