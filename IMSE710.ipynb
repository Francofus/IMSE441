{
  "nbformat": 4,
  "nbformat_minor": 0,
  "metadata": {
    "colab": {
      "provenance": [],
      "mount_file_id": "1jgM8Nb9NfSbxDGqjbhtw8UpCvx-E64o4",
      "authorship_tag": "ABX9TyMs4+kC5scaG4RLVYx+xVFw",
      "include_colab_link": true
    },
    "kernelspec": {
      "name": "python3",
      "display_name": "Python 3"
    },
    "language_info": {
      "name": "python"
    }
  },
  "cells": [
    {
      "cell_type": "markdown",
      "metadata": {
        "id": "view-in-github",
        "colab_type": "text"
      },
      "source": [
        "<a href=\"https://colab.research.google.com/github/Francofus/IMSE441/blob/main/IMSE710.ipynb\" target=\"_parent\"><img src=\"https://colab.research.google.com/assets/colab-badge.svg\" alt=\"Open In Colab\"/></a>"
      ]
    },
    {
      "cell_type": "code",
      "execution_count": 25,
      "metadata": {
        "id": "plQ7GjGS8SCL"
      },
      "outputs": [],
      "source": [
        "import pandas as pd\n",
        "from scipy.sparse.csgraph import minimum_spanning_tree\n",
        "import networkx as nx"
      ]
    },
    {
      "cell_type": "code",
      "source": [
        "# Load the distance matrix from the CSV file\n",
        "file_path = '/content/drive/MyDrive/IMSE_441/IMSE 710 TSP Data.csv'\n",
        "distance_matrix_df = pd.read_csv(file_path)\n",
        "\n",
        "# Set the first column as the index to properly format the DataFrame\n",
        "distance_matrix_df.set_index(distance_matrix_df.columns[0], inplace=True)\n",
        "\n",
        "# Print the DataFrame to display the distance matrix with city name\n",
        "distance_matrix_df\n",
        "# Confirm the matrix is square\n",
        "if distance_matrix_df.shape[0] != distance_matrix_df.shape[1]:\n",
        "    print(\"The matrix is not square.\")\n",
        "else:\n",
        "    print(\"The matrix is square.\")\n",
        "\n",
        "# Convert the DataFrame to a numpy array for processing\n",
        "distance_matrix = distance_matrix_df.to_numpy()\n",
        "\n",
        "# Calculate the Minimum Spanning Tree (MST) using scipy's implementation\n",
        "mst = minimum_spanning_tree(distance_matrix)\n",
        "mst_weight = mst.toarray().astype(int)\n",
        "total_mst_weight = np.sum(mst_weight)\n",
        "\n",
        "# Output the total MST weight\n",
        "print(\"Total MST Weight:\", total_mst_weight)\n",
        "\n",
        "# Find the edges that make up the MST\n",
        "rows, cols = np.where(mst_weight > 0)\n",
        "cities = distance_matrix_df.index.tolist()\n",
        "connected_cities = [(cities[row], cities[col], mst_weight[row, col]) for row, col in zip(rows, cols)]\n",
        "\n",
        "# Output the connected cities by the MST and their distances\n",
        "for city1, city2, weight in connected_cities:\n",
        "    print(f\"{city1} -- {city2}: {weight}\")"
      ],
      "metadata": {
        "colab": {
          "base_uri": "https://localhost:8080/"
        },
        "id": "-B_sV-rQr7DP",
        "outputId": "8846a8ca-233c-4dd1-ce28-d5d01394127a"
      },
      "execution_count": 40,
      "outputs": [
        {
          "output_type": "stream",
          "name": "stdout",
          "text": [
            "The matrix is square.\n",
            "Total MST Weight: 12452\n",
            "Atlanta, GA -- Knoxville, TN: 340\n",
            "Atlanta, GA -- Orlando, FL: 705\n",
            "Chicago, IL -- Cleveland, OH: 552\n",
            "Chicago, IL -- Milwaukee, WI: 147\n",
            "Chicago, IL -- St. Louis, MO: 475\n",
            "Cleveland, OH -- Pittsburgh, PA: 216\n",
            "Denver, CO -- Kansas City, KS: 956\n",
            "Denver, CO -- Salt Lake City, UT: 851\n",
            "Greensboro, NC -- Roanoke, VA: 160\n",
            "Greensboro, NC -- Virginia Beach, VA: 406\n",
            "Houston, TX -- Little Rock, AR: 718\n",
            "Kansas City, KS -- St. Louis, MO: 401\n",
            "Knoxville, TN -- Roanoke, VA: 414\n",
            "Las Vegas, NV -- Salt Lake City, UT: 680\n",
            "Las Vegas, NV -- San Francisco, CA: 905\n",
            "Little Rock, AR -- Memphis, TN: 219\n",
            "Memphis, TN -- St. Louis, MO: 454\n",
            "Miami, FL -- Orlando, FL: 377\n",
            "Milwaukee, WI -- Minneapolis, MN: 537\n",
            "Newark, NJ -- Portland, ME: 524\n",
            "Newark, NJ -- Virginia Beach, VA: 563\n",
            "Pittsburgh, PA -- Roanoke, VA: 556\n",
            "San Francisco, CA -- Seattle, WA: 1296\n"
          ]
        }
      ]
    },
    {
      "cell_type": "code",
      "source": [
        "# Calculate rows and cols from the MST weights\n",
        "rows, cols = np.where(mst_weight > 0)\n",
        "\n",
        "# Using a high integer value for exclusion instead of infinity\n",
        "max_possible_value = np.max(distance_matrix) + 100000  # Set a high value based on the max distance\n",
        "\n",
        "# Re-examine and filter out MST edges correctly\n",
        "non_mst_arcs_filtered = distance_matrix.copy()\n",
        "\n",
        "# Set edges included in the MST and diagonal to the high integer value to effectively exclude them\n",
        "np.fill_diagonal(non_mst_arcs_filtered, max_possible_value)  # Exclude self-loops\n",
        "for row, col in zip(rows, cols):\n",
        "    non_mst_arcs_filtered[row][col] = max_possible_value\n",
        "    non_mst_arcs_filtered[col][row] = max_possible_value  # Ensure symmetry if necessary\n",
        "\n",
        "# Find the smallest value in the adjusted matrix which is not part of the MST\n",
        "min_non_mst_value_correct = np.min(non_mst_arcs_filtered)\n",
        "min_non_mst_indices_correct = np.where(non_mst_arcs_filtered == min_non_mst_value_correct)\n",
        "\n",
        "# Correctly identifying the city pairs for the smallest non-MST edge\n",
        "min_non_mst_cities_final = [(cities[i], cities[j]) for i, j in zip(min_non_mst_indices_correct[0], min_non_mst_indices_correct[1])]\n",
        "\n",
        "min_non_mst_value_correct, min_non_mst_cities_final\n"
      ],
      "metadata": {
        "colab": {
          "base_uri": "https://localhost:8080/"
        },
        "id": "CV1z3XMF0eQ6",
        "outputId": "d7c1cf39-8e87-42d2-ee01-5c8d6195d8cc"
      },
      "execution_count": 41,
      "outputs": [
        {
          "output_type": "execute_result",
          "data": {
            "text/plain": [
              "(456,\n",
              " [('Greensboro, NC', 'Knoxville, TN'), ('Knoxville, TN', 'Greensboro, NC')])"
            ]
          },
          "metadata": {},
          "execution_count": 41
        }
      ]
    },
    {
      "cell_type": "code",
      "source": [
        "# Get the list of cities from the DataFrame index\n",
        "cities = distance_matrix_df.index.tolist()\n",
        "\n",
        "# Starting city: Kansas City, KS\n",
        "start_city = 'Kansas City, KS'\n",
        "start_index = cities.index(start_city)\n",
        "\n",
        "# Initialize tour and visited set\n",
        "tour = [start_city]\n",
        "visited = set([start_index])\n",
        "current_index = start_index\n",
        "total_distance = 0  # Initialize total distance\n",
        "tour_steps = []  # To store each step with distances\n",
        "\n",
        "# Implementing Nearest Neighbor Heuristic\n",
        "while len(visited) < len(cities):\n",
        "    distances = np.array([distance_matrix[current_index][i] if i not in visited else float('inf') for i in range(len(cities))])\n",
        "    next_city_index = np.argmin(distances)\n",
        "    next_city = cities[next_city_index]\n",
        "    tour.append(next_city)\n",
        "    visited.add(next_city_index)\n",
        "    tour_distance = distances[next_city_index]\n",
        "    total_distance += tour_distance\n",
        "    tour_steps.append({\"From\": cities[current_index], \"To\": next_city, \"Distance\": tour_distance})\n",
        "    current_index = next_city_index\n",
        "\n",
        "# Add the return to the starting city\n",
        "tour.append(start_city)\n",
        "return_distance = distance_matrix[current_index][start_index]\n",
        "total_distance += return_distance\n",
        "tour_steps.append({\"From\": cities[current_index], \"To\": start_city, \"Distance\": return_distance})\n",
        "\n",
        "# Create a DataFrame from tour steps\n",
        "tour_df = pd.DataFrame(tour_steps)\n",
        "\n",
        "# Print the DataFrame and total distance\n",
        "print(tour_df)\n",
        "print(\"Total Distance:\", total_distance)"
      ],
      "metadata": {
        "colab": {
          "base_uri": "https://localhost:8080/"
        },
        "id": "SE2uhDr91PLQ",
        "outputId": "a2f8be79-158d-454b-f48e-b5bb84c676d0"
      },
      "execution_count": 44,
      "outputs": [
        {
          "output_type": "stream",
          "name": "stdout",
          "text": [
            "                  From                  To  Distance\n",
            "0      Kansas City, KS       St. Louis, MO     401.0\n",
            "1        St. Louis, MO         Memphis, TN     454.0\n",
            "2          Memphis, TN     Little Rock, AR     219.0\n",
            "3      Little Rock, AR         Houston, TX     718.0\n",
            "4          Houston, TX         Atlanta, GA    1268.0\n",
            "5          Atlanta, GA       Knoxville, TN     340.0\n",
            "6        Knoxville, TN         Roanoke, VA     414.0\n",
            "7          Roanoke, VA      Greensboro, NC     160.0\n",
            "8       Greensboro, NC  Virginia Beach, VA     406.0\n",
            "9   Virginia Beach, VA          Newark, NJ     563.0\n",
            "10          Newark, NJ        Portland, ME     524.0\n",
            "11        Portland, ME      Pittsburgh, PA    1072.0\n",
            "12      Pittsburgh, PA       Cleveland, OH     216.0\n",
            "13       Cleveland, OH         Chicago, IL     552.0\n",
            "14         Chicago, IL       Milwaukee, WI     147.0\n",
            "15       Milwaukee, WI     Minneapolis, MN     537.0\n",
            "16     Minneapolis, MN          Denver, CO    1460.0\n",
            "17          Denver, CO  Salt Lake City, UT     851.0\n",
            "18  Salt Lake City, UT       Las Vegas, NV     680.0\n",
            "19       Las Vegas, NV   San Francisco, CA     905.0\n",
            "20   San Francisco, CA         Seattle, WA    1296.0\n",
            "21         Seattle, WA         Orlando, FL    5017.0\n",
            "22         Orlando, FL           Miami, FL     377.0\n",
            "23           Miami, FL     Kansas City, KS    2344.0\n",
            "Total Distance: 20921.0\n"
          ]
        }
      ]
    },
    {
      "cell_type": "code",
      "source": [
        "# Define the tour cities in order\n",
        "tour_cities = [\n",
        "    \"Kansas City, KS\", \"St. Louis, MO\", \"Memphis, TN\", \"Little Rock, AR\", \"Houston, TX\",\n",
        "    \"Miami, FL\", \"Orlando, FL\", \"Atlanta, GA\", \"Knoxville, TN\", \"Roanoke, VA\",\n",
        "    \"Greensboro, NC\", \"Virginia Beach, VA\", \"Newark, NJ\", \"Portland, ME\", \"Pittsburgh, PA\",\n",
        "    \"Cleveland, OH\", \"Chicago, IL\", \"Milwaukee, WI\", \"Minneapolis, MN\", \"Denver, CO\",\n",
        "    \"Salt Lake City, UT\", \"Seattle, WA\", \"San Francisco, CA\", \"Las Vegas, NV\", \"Kansas City, KS\"\n",
        "]\n",
        "\n",
        "# Map the city names to their indices based on the DataFrame index\n",
        "tour_indices = [cities.index(city) for city in tour_cities]\n",
        "\n",
        "# Calculate the total distance of the tour\n",
        "total_tour_distance = 0\n",
        "for i in range(len(tour_indices) - 1):\n",
        "    start = tour_indices[i]\n",
        "    end = tour_indices[i + 1]\n",
        "    distance = distance_matrix[start][end]\n",
        "    total_tour_distance += distance\n",
        "\n",
        "# Print the total distance of the tour\n",
        "total_tour_distance\n"
      ],
      "metadata": {
        "colab": {
          "base_uri": "https://localhost:8080/"
        },
        "id": "yljlJ-B13Jkl",
        "outputId": "d4901344-7e9b-48e2-a53d-ec808b7c69f3"
      },
      "execution_count": 45,
      "outputs": [
        {
          "output_type": "execute_result",
          "data": {
            "text/plain": [
              "17719"
            ]
          },
          "metadata": {},
          "execution_count": 45
        }
      ]
    },
    {
      "cell_type": "code",
      "source": [
        "# Start at Kansas City, KS\n",
        "start_city = 'Kansas City, KS'\n",
        "start_index = cities.index(start_city)\n",
        "\n",
        "# Initialize tour\n",
        "tour = [start_index]\n",
        "unvisited = set(range(len(cities))) - {start_index}\n",
        "\n",
        "# Find the farthest city from the start city\n",
        "farthest = max(unvisited, key=lambda x: distance_matrix[start_index][x])\n",
        "tour.append(farthest)\n",
        "unvisited.remove(farthest)\n",
        "\n",
        "# Continue with Farthest Insertion\n",
        "while unvisited:\n",
        "    next_city, max_dist = max(((city, max(distance_matrix[city][i] for i in tour)) for city in unvisited), key=lambda x: x[1])\n",
        "    # Insert at the best position\n",
        "    best_pos, min_increase = min(((i, distance_matrix[tour[i-1]][next_city] + distance_matrix[next_city][tour[i]] - distance_matrix[tour[i-1]][tour[i]]) for i in range(1, len(tour))), key=lambda x: x[1])\n",
        "    tour.insert(best_pos, next_city)\n",
        "    unvisited.remove(next_city)\n",
        "\n",
        "# Close the tour\n",
        "tour.append(start_index)\n",
        "\n",
        "# Calculate total distance and collect data for the table\n",
        "tour_steps = []\n",
        "total_distance = 0\n",
        "for i in range(len(tour) - 1):\n",
        "    from_city = cities[tour[i]]\n",
        "    to_city = cities[tour[i+1]]\n",
        "    segment_distance = distance_matrix[tour[i]][tour[i+1]]\n",
        "    total_distance += segment_distance\n",
        "    tour_steps.append({'From': from_city, 'To': to_city, 'Distance': segment_distance})\n",
        "\n",
        "# Create a DataFrame from tour steps\n",
        "tour_df = pd.DataFrame(tour_steps)\n",
        "tour_df.loc['Total'] = pd.Series({'Distance': total_distance}, index=['Distance'])\n",
        "\n",
        "# Display the table\n",
        "print(tour_df)"
      ],
      "metadata": {
        "colab": {
          "base_uri": "https://localhost:8080/"
        },
        "id": "3ZkPBijH5Zc_",
        "outputId": "00c4fb31-7819-42ac-b68b-82d43543caa5"
      },
      "execution_count": 51,
      "outputs": [
        {
          "output_type": "stream",
          "name": "stdout",
          "text": [
            "                     From                  To  Distance\n",
            "0         Kansas City, KS         Houston, TX    1265.0\n",
            "1             Houston, TX     Little Rock, AR     718.0\n",
            "2         Little Rock, AR         Memphis, TN     219.0\n",
            "3             Memphis, TN       Knoxville, TN     627.0\n",
            "4           Knoxville, TN         Atlanta, GA     340.0\n",
            "5             Atlanta, GA         Orlando, FL     705.0\n",
            "6             Orlando, FL           Miami, FL     377.0\n",
            "7               Miami, FL      Greensboro, NC    1270.0\n",
            "8          Greensboro, NC         Roanoke, VA     160.0\n",
            "9             Roanoke, VA  Virginia Beach, VA     470.0\n",
            "10     Virginia Beach, VA          Newark, NJ     563.0\n",
            "11             Newark, NJ        Portland, ME     524.0\n",
            "12           Portland, ME      Pittsburgh, PA    1072.0\n",
            "13         Pittsburgh, PA       Cleveland, OH     216.0\n",
            "14          Cleveland, OH         Chicago, IL     552.0\n",
            "15            Chicago, IL       Milwaukee, WI     147.0\n",
            "16          Milwaukee, WI     Minneapolis, MN     537.0\n",
            "17        Minneapolis, MN       St. Louis, MO     899.0\n",
            "18          St. Louis, MO          Denver, CO    1358.0\n",
            "19             Denver, CO  Salt Lake City, UT     851.0\n",
            "20     Salt Lake City, UT       Las Vegas, NV     680.0\n",
            "21          Las Vegas, NV   San Francisco, CA     905.0\n",
            "22      San Francisco, CA         Seattle, WA    1296.0\n",
            "23            Seattle, WA     Kansas City, KS    3025.0\n",
            "Total                 NaN                 NaN   18776.0\n"
          ]
        }
      ]
    },
    {
      "cell_type": "code",
      "source": [
        "tour_cities = [\n",
        "    'Kansas City, KS', 'Houston, TX', 'Little Rock, AR', 'Memphis, TN', 'St. Louis, MO',\n",
        "    'Knoxville, TN', 'Atlanta, GA', 'Orlando, FL', 'Miami, FL', 'Greensboro, NC',\n",
        "    'Roanoke, VA', 'Virginia Beach, VA', 'Newark, NJ', 'Portland, ME', 'Pittsburgh, PA',\n",
        "    'Cleveland, OH', 'Chicago, IL', 'Milwaukee, WI', 'Minneapolis, MN', 'Seattle, WA',\n",
        "    'San Francisco, CA', 'Las Vegas, NV', 'Salt Lake City, UT', 'Denver, CO', 'Kansas City, KS'\n",
        "]\n",
        "\n",
        "# Calculate the total distance of the tour\n",
        "total_distance = 0\n",
        "tour_steps = []\n",
        "\n",
        "for i in range(len(tour_cities) - 1):\n",
        "    from_city = tour_cities[i]\n",
        "    to_city = tour_cities[i + 1]\n",
        "    distance = distance_matrix_df.at[from_city, to_city]\n",
        "    total_distance += distance\n",
        "    tour_steps.append({'From': from_city, 'To': to_city, 'Distance': distance})\n",
        "\n",
        "# Create a DataFrame from tour steps\n",
        "tour_df = pd.DataFrame(tour_steps)\n",
        "tour_df.loc['Total'] = pd.Series({'Distance': total_distance}, index=['Distance'])\n",
        "\n",
        "# Display the table\n",
        "print(tour_df)"
      ],
      "metadata": {
        "colab": {
          "base_uri": "https://localhost:8080/"
        },
        "id": "0tkRcYG7LwU8",
        "outputId": "30cc540c-68b9-4563-c6f8-65adbb7cb5cf"
      },
      "execution_count": 53,
      "outputs": [
        {
          "output_type": "stream",
          "name": "stdout",
          "text": [
            "                     From                  To  Distance\n",
            "0         Kansas City, KS         Houston, TX    1265.0\n",
            "1             Houston, TX     Little Rock, AR     718.0\n",
            "2         Little Rock, AR         Memphis, TN     219.0\n",
            "3             Memphis, TN       St. Louis, MO     454.0\n",
            "4           St. Louis, MO       Knoxville, TN     777.0\n",
            "5           Knoxville, TN         Atlanta, GA     340.0\n",
            "6             Atlanta, GA         Orlando, FL     705.0\n",
            "7             Orlando, FL           Miami, FL     377.0\n",
            "8               Miami, FL      Greensboro, NC    1270.0\n",
            "9          Greensboro, NC         Roanoke, VA     160.0\n",
            "10            Roanoke, VA  Virginia Beach, VA     470.0\n",
            "11     Virginia Beach, VA          Newark, NJ     563.0\n",
            "12             Newark, NJ        Portland, ME     524.0\n",
            "13           Portland, ME      Pittsburgh, PA    1072.0\n",
            "14         Pittsburgh, PA       Cleveland, OH     216.0\n",
            "15          Cleveland, OH         Chicago, IL     552.0\n",
            "16            Chicago, IL       Milwaukee, WI     147.0\n",
            "17          Milwaukee, WI     Minneapolis, MN     537.0\n",
            "18        Minneapolis, MN         Seattle, WA    2660.0\n",
            "19            Seattle, WA   San Francisco, CA    1296.0\n",
            "20      San Francisco, CA       Las Vegas, NV     905.0\n",
            "21          Las Vegas, NV  Salt Lake City, UT     680.0\n",
            "22     Salt Lake City, UT          Denver, CO     851.0\n",
            "23             Denver, CO     Kansas City, KS     956.0\n",
            "Total                 NaN                 NaN   17714.0\n"
          ]
        }
      ]
    }
  ]
}