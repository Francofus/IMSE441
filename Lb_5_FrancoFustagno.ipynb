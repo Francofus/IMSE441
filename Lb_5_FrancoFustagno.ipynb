{
  "nbformat": 4,
  "nbformat_minor": 0,
  "metadata": {
    "colab": {
      "provenance": [],
      "toc_visible": true,
      "mount_file_id": "1o5PSmokmRgXlxn8towequO2RE2WZsFgI",
      "authorship_tag": "ABX9TyMT3jcUPNGdPZK12qk/y+/L",
      "include_colab_link": true
    },
    "kernelspec": {
      "name": "python3",
      "display_name": "Python 3"
    },
    "language_info": {
      "name": "python"
    }
  },
  "cells": [
    {
      "cell_type": "markdown",
      "metadata": {
        "id": "view-in-github",
        "colab_type": "text"
      },
      "source": [
        "<a href=\"https://colab.research.google.com/github/Francofus/IMSE441/blob/main/Lb_5_FrancoFustagno.ipynb\" target=\"_parent\"><img src=\"https://colab.research.google.com/assets/colab-badge.svg\" alt=\"Open In Colab\"/></a>"
      ]
    },
    {
      "cell_type": "code",
      "execution_count": 2,
      "metadata": {
        "id": "O9qQK6wwZXao"
      },
      "outputs": [],
      "source": [
        "\n",
        "import numpy as np\n",
        "import matplotlib.pyplot as plt\n",
        "from scipy.stats import expon\n"
      ]
    },
    {
      "cell_type": "markdown",
      "source": [
        "**4.7.8**"
      ],
      "metadata": {
        "id": "SsHtoPKCiNwe"
      }
    },
    {
      "cell_type": "code",
      "source": [
        "x=expon.rvs(scale=1/0.2)"
      ],
      "metadata": {
        "id": "6Epw4-SpZoRF"
      },
      "execution_count": 9,
      "outputs": []
    },
    {
      "cell_type": "code",
      "source": [
        "m, v, s = expon.mean(scale=1/0.2), expon.var(scale=1/0.2), expon.std(scale=1/0.2)\n",
        "print('mean = ', m, 'Variance = ', v, 'Standard Deviation =', s)"
      ],
      "metadata": {
        "colab": {
          "base_uri": "https://localhost:8080/"
        },
        "id": "JFK456SWc8Zj",
        "outputId": "77b8d558-7077-4bdc-8f28-1a365229eb50"
      },
      "execution_count": 6,
      "outputs": [
        {
          "output_type": "stream",
          "name": "stdout",
          "text": [
            "mean =  5.0 Variance =  25.0 Standard Deviation = 5.0\n"
          ]
        }
      ]
    },
    {
      "cell_type": "code",
      "source": [
        "m= 1-expon.cdf(x=10,scale=1/0.2)\n",
        "m"
      ],
      "metadata": {
        "colab": {
          "base_uri": "https://localhost:8080/"
        },
        "id": "F-bFyVv5d0Hh",
        "outputId": "e999699a-c305-41b0-b048-1e8d05e2f29e"
      },
      "execution_count": 13,
      "outputs": [
        {
          "output_type": "execute_result",
          "data": {
            "text/plain": [
              "0.1353352832366127"
            ]
          },
          "metadata": {},
          "execution_count": 13
        }
      ]
    },
    {
      "cell_type": "code",
      "source": [
        "n= 1-expon.cdf(x=2,scale=1/0.2)\n",
        "n"
      ],
      "metadata": {
        "colab": {
          "base_uri": "https://localhost:8080/"
        },
        "id": "zdIi1b98fEBt",
        "outputId": "ebc1f1f6-8483-45a9-b6f7-996edec17141"
      },
      "execution_count": 15,
      "outputs": [
        {
          "output_type": "execute_result",
          "data": {
            "text/plain": [
              "0.6703200460356393"
            ]
          },
          "metadata": {},
          "execution_count": 15
        }
      ]
    },
    {
      "cell_type": "code",
      "source": [
        "m=expon.cdf(x=15,scale=1/0.2)\n",
        "n=expon.cdf(x=12,scale=1/0.2)\n",
        "x=m-n\n",
        "x"
      ],
      "metadata": {
        "colab": {
          "base_uri": "https://localhost:8080/"
        },
        "id": "YDgclT3nfkbb",
        "outputId": "4723bd90-bf31-463c-9d2e-68f02319a19a"
      },
      "execution_count": 18,
      "outputs": [
        {
          "output_type": "execute_result",
          "data": {
            "text/plain": [
              "0.040930884921548505"
            ]
          },
          "metadata": {},
          "execution_count": 18
        }
      ]
    },
    {
      "cell_type": "code",
      "source": [
        "m= 1-expon.cdf(x=5,scale=1/0.2)\n",
        "m*m"
      ],
      "metadata": {
        "colab": {
          "base_uri": "https://localhost:8080/"
        },
        "id": "O1LJ5o_QgCt7",
        "outputId": "7d87dee2-80be-43bb-a574-8779c78a5ab4"
      },
      "execution_count": 22,
      "outputs": [
        {
          "output_type": "execute_result",
          "data": {
            "text/plain": [
              "0.1353352832366127"
            ]
          },
          "metadata": {},
          "execution_count": 22
        }
      ]
    },
    {
      "cell_type": "code",
      "source": [
        "m*m*m"
      ],
      "metadata": {
        "colab": {
          "base_uri": "https://localhost:8080/"
        },
        "id": "GpAyd60AhXZ7",
        "outputId": "8bb5fc7b-7825-4587-ed67-0cf306f09fbc"
      },
      "execution_count": 23,
      "outputs": [
        {
          "output_type": "execute_result",
          "data": {
            "text/plain": [
              "0.04978706836786395"
            ]
          },
          "metadata": {},
          "execution_count": 23
        }
      ]
    },
    {
      "cell_type": "markdown",
      "source": [
        "**4.7.10**"
      ],
      "metadata": {
        "id": "5rCJJ__ZiImA"
      }
    },
    {
      "cell_type": "code",
      "source": [
        "x=expon.rvs(scale=1/1)"
      ],
      "metadata": {
        "id": "jG_1-TUkiLNn"
      },
      "execution_count": 24,
      "outputs": []
    },
    {
      "cell_type": "code",
      "source": [
        "m= 1-expon.cdf(x=3, scale=1)\n",
        "m"
      ],
      "metadata": {
        "colab": {
          "base_uri": "https://localhost:8080/"
        },
        "id": "ud8K1irDiYda",
        "outputId": "e0a9a764-54c3-4ef7-dfb2-5cd382713a38"
      },
      "execution_count": 26,
      "outputs": [
        {
          "output_type": "execute_result",
          "data": {
            "text/plain": [
              "0.04978706836786395"
            ]
          },
          "metadata": {},
          "execution_count": 26
        }
      ]
    },
    {
      "cell_type": "code",
      "source": [
        "m= 1-expon.cdf(x=3, scale=1)\n",
        "m**m"
      ],
      "metadata": {
        "colab": {
          "base_uri": "https://localhost:8080/"
        },
        "id": "zyBlJ3GAlx-S",
        "outputId": "65352a1c-a369-4820-a4aa-b34ea2fdde31"
      },
      "execution_count": 30,
      "outputs": [
        {
          "output_type": "execute_result",
          "data": {
            "text/plain": [
              "0.8612579679348783"
            ]
          },
          "metadata": {},
          "execution_count": 30
        }
      ]
    },
    {
      "cell_type": "code",
      "source": [
        "m= 1-expon.cdf(x=1, scale=1)\n",
        "m"
      ],
      "metadata": {
        "colab": {
          "base_uri": "https://localhost:8080/"
        },
        "id": "qZ3DfFbumEVR",
        "outputId": "151d8f83-7368-469d-d940-00581790598d"
      },
      "execution_count": 31,
      "outputs": [
        {
          "output_type": "execute_result",
          "data": {
            "text/plain": [
              "0.36787944117144233"
            ]
          },
          "metadata": {},
          "execution_count": 31
        }
      ]
    },
    {
      "cell_type": "code",
      "source": [
        "m= 1-expon.cdf(x=3, scale=0.6)\n",
        "m"
      ],
      "metadata": {
        "colab": {
          "base_uri": "https://localhost:8080/"
        },
        "id": "juzyaLoDmV1z",
        "outputId": "87edaa8d-717a-4ed2-a6a1-bb8e5d00001e"
      },
      "execution_count": 32,
      "outputs": [
        {
          "output_type": "execute_result",
          "data": {
            "text/plain": [
              "0.006737946999085476"
            ]
          },
          "metadata": {},
          "execution_count": 32
        }
      ]
    },
    {
      "cell_type": "markdown",
      "source": [
        "**4.9.7**"
      ],
      "metadata": {
        "id": "ffjyxsu8mc0c"
      }
    },
    {
      "cell_type": "code",
      "source": [
        "\n",
        "from scipy.stats.distributions import weibull_min"
      ],
      "metadata": {
        "id": "wTby3N-joqbQ"
      },
      "execution_count": 34,
      "outputs": []
    },
    {
      "cell_type": "code",
      "source": [
        "P5000=1-weibull_min.cdf(1.25,c=2,scale=1)\n",
        "P5000"
      ],
      "metadata": {
        "colab": {
          "base_uri": "https://localhost:8080/"
        },
        "id": "lpSEpNwTmfFr",
        "outputId": "745272d4-bb24-426d-f99e-7e245a4e5260"
      },
      "execution_count": 35,
      "outputs": [
        {
          "output_type": "execute_result",
          "data": {
            "text/plain": [
              "0.20961138715109784"
            ]
          },
          "metadata": {},
          "execution_count": 35
        }
      ]
    },
    {
      "cell_type": "code",
      "source": [
        "P8000=1-weibull_min.cdf(2,c=2,scale=1)\n",
        "P3000=1-weibull_min.cdf(0.75,c=0.5,scale=1)\n",
        "m=P8000/P3000\n",
        "m"
      ],
      "metadata": {
        "colab": {
          "base_uri": "https://localhost:8080/"
        },
        "id": "qr1nzHz5pD1T",
        "outputId": "5cb2bb57-3f88-43b8-ac86-027bb616ecca"
      },
      "execution_count": 53,
      "outputs": [
        {
          "output_type": "execute_result",
          "data": {
            "text/plain": [
              "0.04354438151829181"
            ]
          },
          "metadata": {},
          "execution_count": 53
        }
      ]
    },
    {
      "cell_type": "markdown",
      "source": [
        "**4.9.12**"
      ],
      "metadata": {
        "id": "CQeTskMvpfpp"
      }
    },
    {
      "cell_type": "code",
      "source": [
        "P2=1-weibull_min.cdf(1.035,c=0.8472,scale=1)\n",
        "P2\n",
        "     \n"
      ],
      "metadata": {
        "colab": {
          "base_uri": "https://localhost:8080/"
        },
        "id": "b0JEYFf4pee9",
        "outputId": "cc2c31e9-e4b3-471c-a83d-c36142e2cb6d"
      },
      "execution_count": 54,
      "outputs": [
        {
          "output_type": "execute_result",
          "data": {
            "text/plain": [
              "0.3571591646200387"
            ]
          },
          "metadata": {},
          "execution_count": 54
        }
      ]
    },
    {
      "cell_type": "code",
      "source": [
        "P2=1-weibull_min.cdf(1.035,c=0.8472,scale=1)\n",
        "P4=1-weibull_min.cdf(2.07,c=0.8472,scale=1)\n",
        "X=P2-P4\n",
        "X"
      ],
      "metadata": {
        "colab": {
          "base_uri": "https://localhost:8080/"
        },
        "id": "sB-zeLg9rmvh",
        "outputId": "1aa096ad-ecb5-474d-965c-5067192c27e0"
      },
      "execution_count": 56,
      "outputs": [
        {
          "output_type": "execute_result",
          "data": {
            "text/plain": [
              "0.20026900975817596"
            ]
          },
          "metadata": {},
          "execution_count": 56
        }
      ]
    },
    {
      "cell_type": "code",
      "source": [
        "m= weibull_min.mean(c=0.8472,scale=1.9317)\n",
        "m"
      ],
      "metadata": {
        "colab": {
          "base_uri": "https://localhost:8080/"
        },
        "id": "KeTplE-_r39k",
        "outputId": "957b8378-a2bf-494e-d68d-ecb96d82f60c"
      },
      "execution_count": 57,
      "outputs": [
        {
          "output_type": "execute_result",
          "data": {
            "text/plain": [
              "2.105953364676152"
            ]
          },
          "metadata": {},
          "execution_count": 57
        }
      ]
    },
    {
      "cell_type": "code",
      "source": [
        "m= weibull_min.std(c=0.8472,scale=1.9317)\n",
        "m"
      ],
      "metadata": {
        "colab": {
          "base_uri": "https://localhost:8080/"
        },
        "id": "S1LKtoq7sWxq",
        "outputId": "73ebeccf-eeb1-46c4-ba9a-82a75abdea9d"
      },
      "execution_count": 59,
      "outputs": [
        {
          "output_type": "execute_result",
          "data": {
            "text/plain": [
              "2.496867305266449"
            ]
          },
          "metadata": {},
          "execution_count": 59
        }
      ]
    }
  ]
}